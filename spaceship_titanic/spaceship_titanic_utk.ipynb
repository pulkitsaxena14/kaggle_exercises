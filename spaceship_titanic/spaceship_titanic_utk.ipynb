{
 "cells": [
  {
   "cell_type": "code",
   "execution_count": 82,
   "id": "6b1ff0d0-0407-4607-b9c2-9a9748910d64",
   "metadata": {},
   "outputs": [],
   "source": [
    "import pandas as pd\n",
    "import seaborn as sns"
   ]
  },
  {
   "cell_type": "code",
   "execution_count": 83,
   "id": "212bba76-4144-4d70-998f-c78e2969ca6a",
   "metadata": {},
   "outputs": [],
   "source": [
    "train_data = pd.read_csv('train.csv')"
   ]
  },
  {
   "cell_type": "markdown",
   "id": "dd8099b5-284d-4e59-96fa-2b19167b9201",
   "metadata": {},
   "source": [
    "### EDA"
   ]
  },
  {
   "cell_type": "code",
   "execution_count": 84,
   "id": "2ef65dfb-7471-4260-8b16-de05ee722430",
   "metadata": {},
   "outputs": [
    {
     "data": {
      "text/html": [
       "<div>\n",
       "<style scoped>\n",
       "    .dataframe tbody tr th:only-of-type {\n",
       "        vertical-align: middle;\n",
       "    }\n",
       "\n",
       "    .dataframe tbody tr th {\n",
       "        vertical-align: top;\n",
       "    }\n",
       "\n",
       "    .dataframe thead th {\n",
       "        text-align: right;\n",
       "    }\n",
       "</style>\n",
       "<table border=\"1\" class=\"dataframe\">\n",
       "  <thead>\n",
       "    <tr style=\"text-align: right;\">\n",
       "      <th></th>\n",
       "      <th>PassengerId</th>\n",
       "      <th>HomePlanet</th>\n",
       "      <th>CryoSleep</th>\n",
       "      <th>Cabin</th>\n",
       "      <th>Destination</th>\n",
       "      <th>Age</th>\n",
       "      <th>VIP</th>\n",
       "      <th>RoomService</th>\n",
       "      <th>FoodCourt</th>\n",
       "      <th>ShoppingMall</th>\n",
       "      <th>Spa</th>\n",
       "      <th>VRDeck</th>\n",
       "      <th>Name</th>\n",
       "      <th>Transported</th>\n",
       "    </tr>\n",
       "  </thead>\n",
       "  <tbody>\n",
       "    <tr>\n",
       "      <th>0</th>\n",
       "      <td>0001_01</td>\n",
       "      <td>Europa</td>\n",
       "      <td>False</td>\n",
       "      <td>B/0/P</td>\n",
       "      <td>TRAPPIST-1e</td>\n",
       "      <td>39.0</td>\n",
       "      <td>False</td>\n",
       "      <td>0.0</td>\n",
       "      <td>0.0</td>\n",
       "      <td>0.0</td>\n",
       "      <td>0.0</td>\n",
       "      <td>0.0</td>\n",
       "      <td>Maham Ofracculy</td>\n",
       "      <td>False</td>\n",
       "    </tr>\n",
       "    <tr>\n",
       "      <th>1</th>\n",
       "      <td>0002_01</td>\n",
       "      <td>Earth</td>\n",
       "      <td>False</td>\n",
       "      <td>F/0/S</td>\n",
       "      <td>TRAPPIST-1e</td>\n",
       "      <td>24.0</td>\n",
       "      <td>False</td>\n",
       "      <td>109.0</td>\n",
       "      <td>9.0</td>\n",
       "      <td>25.0</td>\n",
       "      <td>549.0</td>\n",
       "      <td>44.0</td>\n",
       "      <td>Juanna Vines</td>\n",
       "      <td>True</td>\n",
       "    </tr>\n",
       "    <tr>\n",
       "      <th>2</th>\n",
       "      <td>0003_01</td>\n",
       "      <td>Europa</td>\n",
       "      <td>False</td>\n",
       "      <td>A/0/S</td>\n",
       "      <td>TRAPPIST-1e</td>\n",
       "      <td>58.0</td>\n",
       "      <td>True</td>\n",
       "      <td>43.0</td>\n",
       "      <td>3576.0</td>\n",
       "      <td>0.0</td>\n",
       "      <td>6715.0</td>\n",
       "      <td>49.0</td>\n",
       "      <td>Altark Susent</td>\n",
       "      <td>False</td>\n",
       "    </tr>\n",
       "    <tr>\n",
       "      <th>3</th>\n",
       "      <td>0003_02</td>\n",
       "      <td>Europa</td>\n",
       "      <td>False</td>\n",
       "      <td>A/0/S</td>\n",
       "      <td>TRAPPIST-1e</td>\n",
       "      <td>33.0</td>\n",
       "      <td>False</td>\n",
       "      <td>0.0</td>\n",
       "      <td>1283.0</td>\n",
       "      <td>371.0</td>\n",
       "      <td>3329.0</td>\n",
       "      <td>193.0</td>\n",
       "      <td>Solam Susent</td>\n",
       "      <td>False</td>\n",
       "    </tr>\n",
       "    <tr>\n",
       "      <th>4</th>\n",
       "      <td>0004_01</td>\n",
       "      <td>Earth</td>\n",
       "      <td>False</td>\n",
       "      <td>F/1/S</td>\n",
       "      <td>TRAPPIST-1e</td>\n",
       "      <td>16.0</td>\n",
       "      <td>False</td>\n",
       "      <td>303.0</td>\n",
       "      <td>70.0</td>\n",
       "      <td>151.0</td>\n",
       "      <td>565.0</td>\n",
       "      <td>2.0</td>\n",
       "      <td>Willy Santantines</td>\n",
       "      <td>True</td>\n",
       "    </tr>\n",
       "  </tbody>\n",
       "</table>\n",
       "</div>"
      ],
      "text/plain": [
       "  PassengerId HomePlanet CryoSleep  Cabin  Destination   Age    VIP   \n",
       "0     0001_01     Europa     False  B/0/P  TRAPPIST-1e  39.0  False  \\\n",
       "1     0002_01      Earth     False  F/0/S  TRAPPIST-1e  24.0  False   \n",
       "2     0003_01     Europa     False  A/0/S  TRAPPIST-1e  58.0   True   \n",
       "3     0003_02     Europa     False  A/0/S  TRAPPIST-1e  33.0  False   \n",
       "4     0004_01      Earth     False  F/1/S  TRAPPIST-1e  16.0  False   \n",
       "\n",
       "   RoomService  FoodCourt  ShoppingMall     Spa  VRDeck               Name   \n",
       "0          0.0        0.0           0.0     0.0     0.0    Maham Ofracculy  \\\n",
       "1        109.0        9.0          25.0   549.0    44.0       Juanna Vines   \n",
       "2         43.0     3576.0           0.0  6715.0    49.0      Altark Susent   \n",
       "3          0.0     1283.0         371.0  3329.0   193.0       Solam Susent   \n",
       "4        303.0       70.0         151.0   565.0     2.0  Willy Santantines   \n",
       "\n",
       "   Transported  \n",
       "0        False  \n",
       "1         True  \n",
       "2        False  \n",
       "3        False  \n",
       "4         True  "
      ]
     },
     "execution_count": 84,
     "metadata": {},
     "output_type": "execute_result"
    }
   ],
   "source": [
    "train_data.head()"
   ]
  },
  {
   "cell_type": "code",
   "execution_count": 85,
   "id": "87fbc70e-aa67-4a64-b812-e2ba7b4fb66e",
   "metadata": {},
   "outputs": [
    {
     "data": {
      "text/plain": [
       "(8693, 14)"
      ]
     },
     "execution_count": 85,
     "metadata": {},
     "output_type": "execute_result"
    }
   ],
   "source": [
    "train_data.shape"
   ]
  },
  {
   "cell_type": "code",
   "execution_count": 86,
   "id": "696fded0-fe15-4a7d-adbd-e7a2c11d7d41",
   "metadata": {},
   "outputs": [
    {
     "data": {
      "text/plain": [
       "PassengerId      object\n",
       "HomePlanet       object\n",
       "CryoSleep        object\n",
       "Cabin            object\n",
       "Destination      object\n",
       "Age             float64\n",
       "VIP              object\n",
       "RoomService     float64\n",
       "FoodCourt       float64\n",
       "ShoppingMall    float64\n",
       "Spa             float64\n",
       "VRDeck          float64\n",
       "Name             object\n",
       "Transported        bool\n",
       "dtype: object"
      ]
     },
     "execution_count": 86,
     "metadata": {},
     "output_type": "execute_result"
    }
   ],
   "source": [
    "train_data.dtypes"
   ]
  },
  {
   "cell_type": "code",
   "execution_count": 87,
   "id": "7c5e4672-e21e-46c6-85f4-756c77ca80f1",
   "metadata": {},
   "outputs": [
    {
     "name": "stdout",
     "output_type": "stream",
     "text": [
      "<class 'pandas.core.frame.DataFrame'>\n",
      "RangeIndex: 8693 entries, 0 to 8692\n",
      "Data columns (total 14 columns):\n",
      " #   Column        Non-Null Count  Dtype  \n",
      "---  ------        --------------  -----  \n",
      " 0   PassengerId   8693 non-null   object \n",
      " 1   HomePlanet    8492 non-null   object \n",
      " 2   CryoSleep     8476 non-null   object \n",
      " 3   Cabin         8494 non-null   object \n",
      " 4   Destination   8511 non-null   object \n",
      " 5   Age           8514 non-null   float64\n",
      " 6   VIP           8490 non-null   object \n",
      " 7   RoomService   8512 non-null   float64\n",
      " 8   FoodCourt     8510 non-null   float64\n",
      " 9   ShoppingMall  8485 non-null   float64\n",
      " 10  Spa           8510 non-null   float64\n",
      " 11  VRDeck        8505 non-null   float64\n",
      " 12  Name          8493 non-null   object \n",
      " 13  Transported   8693 non-null   bool   \n",
      "dtypes: bool(1), float64(6), object(7)\n",
      "memory usage: 891.5+ KB\n"
     ]
    }
   ],
   "source": [
    "train_data.info()"
   ]
  },
  {
   "cell_type": "code",
   "execution_count": 88,
   "id": "40bdcec1-a813-464e-a079-f3f5a798342d",
   "metadata": {},
   "outputs": [
    {
     "data": {
      "text/html": [
       "<div>\n",
       "<style scoped>\n",
       "    .dataframe tbody tr th:only-of-type {\n",
       "        vertical-align: middle;\n",
       "    }\n",
       "\n",
       "    .dataframe tbody tr th {\n",
       "        vertical-align: top;\n",
       "    }\n",
       "\n",
       "    .dataframe thead th {\n",
       "        text-align: right;\n",
       "    }\n",
       "</style>\n",
       "<table border=\"1\" class=\"dataframe\">\n",
       "  <thead>\n",
       "    <tr style=\"text-align: right;\">\n",
       "      <th></th>\n",
       "      <th>Age</th>\n",
       "      <th>RoomService</th>\n",
       "      <th>FoodCourt</th>\n",
       "      <th>ShoppingMall</th>\n",
       "      <th>Spa</th>\n",
       "      <th>VRDeck</th>\n",
       "    </tr>\n",
       "  </thead>\n",
       "  <tbody>\n",
       "    <tr>\n",
       "      <th>count</th>\n",
       "      <td>8514.000000</td>\n",
       "      <td>8512.000000</td>\n",
       "      <td>8510.000000</td>\n",
       "      <td>8485.000000</td>\n",
       "      <td>8510.000000</td>\n",
       "      <td>8505.000000</td>\n",
       "    </tr>\n",
       "    <tr>\n",
       "      <th>mean</th>\n",
       "      <td>28.827930</td>\n",
       "      <td>224.687617</td>\n",
       "      <td>458.077203</td>\n",
       "      <td>173.729169</td>\n",
       "      <td>311.138778</td>\n",
       "      <td>304.854791</td>\n",
       "    </tr>\n",
       "    <tr>\n",
       "      <th>std</th>\n",
       "      <td>14.489021</td>\n",
       "      <td>666.717663</td>\n",
       "      <td>1611.489240</td>\n",
       "      <td>604.696458</td>\n",
       "      <td>1136.705535</td>\n",
       "      <td>1145.717189</td>\n",
       "    </tr>\n",
       "    <tr>\n",
       "      <th>min</th>\n",
       "      <td>0.000000</td>\n",
       "      <td>0.000000</td>\n",
       "      <td>0.000000</td>\n",
       "      <td>0.000000</td>\n",
       "      <td>0.000000</td>\n",
       "      <td>0.000000</td>\n",
       "    </tr>\n",
       "    <tr>\n",
       "      <th>25%</th>\n",
       "      <td>19.000000</td>\n",
       "      <td>0.000000</td>\n",
       "      <td>0.000000</td>\n",
       "      <td>0.000000</td>\n",
       "      <td>0.000000</td>\n",
       "      <td>0.000000</td>\n",
       "    </tr>\n",
       "    <tr>\n",
       "      <th>50%</th>\n",
       "      <td>27.000000</td>\n",
       "      <td>0.000000</td>\n",
       "      <td>0.000000</td>\n",
       "      <td>0.000000</td>\n",
       "      <td>0.000000</td>\n",
       "      <td>0.000000</td>\n",
       "    </tr>\n",
       "    <tr>\n",
       "      <th>75%</th>\n",
       "      <td>38.000000</td>\n",
       "      <td>47.000000</td>\n",
       "      <td>76.000000</td>\n",
       "      <td>27.000000</td>\n",
       "      <td>59.000000</td>\n",
       "      <td>46.000000</td>\n",
       "    </tr>\n",
       "    <tr>\n",
       "      <th>max</th>\n",
       "      <td>79.000000</td>\n",
       "      <td>14327.000000</td>\n",
       "      <td>29813.000000</td>\n",
       "      <td>23492.000000</td>\n",
       "      <td>22408.000000</td>\n",
       "      <td>24133.000000</td>\n",
       "    </tr>\n",
       "  </tbody>\n",
       "</table>\n",
       "</div>"
      ],
      "text/plain": [
       "               Age   RoomService     FoodCourt  ShoppingMall           Spa   \n",
       "count  8514.000000   8512.000000   8510.000000   8485.000000   8510.000000  \\\n",
       "mean     28.827930    224.687617    458.077203    173.729169    311.138778   \n",
       "std      14.489021    666.717663   1611.489240    604.696458   1136.705535   \n",
       "min       0.000000      0.000000      0.000000      0.000000      0.000000   \n",
       "25%      19.000000      0.000000      0.000000      0.000000      0.000000   \n",
       "50%      27.000000      0.000000      0.000000      0.000000      0.000000   \n",
       "75%      38.000000     47.000000     76.000000     27.000000     59.000000   \n",
       "max      79.000000  14327.000000  29813.000000  23492.000000  22408.000000   \n",
       "\n",
       "             VRDeck  \n",
       "count   8505.000000  \n",
       "mean     304.854791  \n",
       "std     1145.717189  \n",
       "min        0.000000  \n",
       "25%        0.000000  \n",
       "50%        0.000000  \n",
       "75%       46.000000  \n",
       "max    24133.000000  "
      ]
     },
     "execution_count": 88,
     "metadata": {},
     "output_type": "execute_result"
    }
   ],
   "source": [
    "train_data.describe()"
   ]
  },
  {
   "cell_type": "code",
   "execution_count": 89,
   "id": "c5deb4b1-8d99-403b-a981-e8e4d6b0331b",
   "metadata": {},
   "outputs": [
    {
     "data": {
      "text/plain": [
       "CryoSleep       2.496261\n",
       "ShoppingMall    2.392730\n",
       "VIP             2.335212\n",
       "HomePlanet      2.312205\n",
       "Name            2.300702\n",
       "Cabin           2.289198\n",
       "VRDeck          2.162660\n",
       "FoodCourt       2.105142\n",
       "Spa             2.105142\n",
       "Destination     2.093639\n",
       "RoomService     2.082135\n",
       "Age             2.059128\n",
       "PassengerId     0.000000\n",
       "Transported     0.000000\n",
       "dtype: float64"
      ]
     },
     "execution_count": 89,
     "metadata": {},
     "output_type": "execute_result"
    }
   ],
   "source": [
    "train_data.isna().sum().sort_values(ascending=False) / train_data.shape[0] * 100"
   ]
  },
  {
   "cell_type": "markdown",
   "id": "611a5c8f-3249-43d9-a4e9-d33a3aa538fa",
   "metadata": {},
   "source": [
    "### Pre-processing"
   ]
  },
  {
   "cell_type": "code",
   "execution_count": 90,
   "id": "ce79c3fa-f4af-4a9f-8076-7a25b9d6d750",
   "metadata": {},
   "outputs": [],
   "source": [
    "def preprocess(data):\n",
    "    data[[\"Deck\", \"Num\", \"Side\"]] = data.Cabin.str.split('/', expand=True)\n",
    "    data[\"Deck\"] = data.Deck.fillna(data[\"Deck\"].mode().values[0])\n",
    "    data.loc[data.Side.isna(), \"Side\"] = data[data.Side.isna()].apply(lambda x: data[data.Deck == x.Deck].Side.mode().values[0], axis=1)\n",
    "    data['CabinLocation'] = data['Deck'].astype(str) + '_' + data['Side']\n",
    "\n",
    "    data[\"Age\"] = data[\"Age\"].fillna(data.Age.mean())\n",
    "    data[\"Age\"] = data.Age.astype(int)\n",
    "    \n",
    "    data[\"RoomService\"] = data[\"RoomService\"].fillna(0)\n",
    "    data[\"FoodCourt\"] = data[\"FoodCourt\"].fillna(0)\n",
    "    data[\"ShoppingMall\"] = data[\"ShoppingMall\"].fillna(0)\n",
    "    data[\"Spa\"] = data[\"Spa\"].fillna(0)\n",
    "    data[\"VRDeck\"] = data[\"VRDeck\"].fillna(0)\n",
    "    \n",
    "    data[\"TotalSpending\"] = data[\"RoomService\"] + data[\"FoodCourt\"] + data[\"ShoppingMall\"] + data[\"Spa\"] + data[\"VRDeck\"]\n",
    "    \n",
    "    data[\"CryoSleep\"] = data.CryoSleep.fillna(data.CryoSleep.mode().values[0])\n",
    "    data[\"CryoSleep\"] = data.CryoSleep.astype(int)\n",
    "    \n",
    "    data[\"VIP\"] = data.VIP.fillna(data.VIP.mode().values[0])\n",
    "    data[\"VIP\"] = data.VIP.astype(int)\n",
    "    \n",
    "    data[\"HomePlanet\"] = data.HomePlanet.fillna(data.HomePlanet.mode().values[0])\n",
    "    data[\"Destination\"] = data.Destination.fillna(data.Destination.mode().values[0])\n",
    "    \n",
    "    data['FamilyID'] = data['PassengerId'].str.split('_').str[0]\n",
    "\n",
    "    # Group by 'FamilyID' and count the number of members\n",
    "    data['FamilyGroupSize'] = data.groupby('FamilyID')['PassengerId'].transform('count')\n",
    "    \n",
    "    data.drop(columns=[\"Name\", \"Cabin\", \"Num\", \"PassengerId\", \"FamilyID\"], axis=1, inplace=True)\n",
    "    \n",
    "    return data\n"
   ]
  },
  {
   "cell_type": "code",
   "execution_count": 91,
   "id": "49164b07-f9e6-4059-81e4-c14ef63801da",
   "metadata": {},
   "outputs": [],
   "source": [
    "train_data = preprocess(train_data)"
   ]
  },
  {
   "cell_type": "code",
   "execution_count": 92,
   "id": "624e6654",
   "metadata": {},
   "outputs": [
    {
     "data": {
      "text/html": [
       "<div>\n",
       "<style scoped>\n",
       "    .dataframe tbody tr th:only-of-type {\n",
       "        vertical-align: middle;\n",
       "    }\n",
       "\n",
       "    .dataframe tbody tr th {\n",
       "        vertical-align: top;\n",
       "    }\n",
       "\n",
       "    .dataframe thead th {\n",
       "        text-align: right;\n",
       "    }\n",
       "</style>\n",
       "<table border=\"1\" class=\"dataframe\">\n",
       "  <thead>\n",
       "    <tr style=\"text-align: right;\">\n",
       "      <th></th>\n",
       "      <th>HomePlanet</th>\n",
       "      <th>CryoSleep</th>\n",
       "      <th>Destination</th>\n",
       "      <th>Age</th>\n",
       "      <th>VIP</th>\n",
       "      <th>RoomService</th>\n",
       "      <th>FoodCourt</th>\n",
       "      <th>ShoppingMall</th>\n",
       "      <th>Spa</th>\n",
       "      <th>VRDeck</th>\n",
       "      <th>Transported</th>\n",
       "      <th>Deck</th>\n",
       "      <th>Side</th>\n",
       "      <th>CabinLocation</th>\n",
       "      <th>TotalSpending</th>\n",
       "      <th>FamilyGroupSize</th>\n",
       "    </tr>\n",
       "  </thead>\n",
       "  <tbody>\n",
       "    <tr>\n",
       "      <th>0</th>\n",
       "      <td>Europa</td>\n",
       "      <td>0</td>\n",
       "      <td>TRAPPIST-1e</td>\n",
       "      <td>39</td>\n",
       "      <td>0</td>\n",
       "      <td>0.0</td>\n",
       "      <td>0.0</td>\n",
       "      <td>0.0</td>\n",
       "      <td>0.0</td>\n",
       "      <td>0.0</td>\n",
       "      <td>False</td>\n",
       "      <td>B</td>\n",
       "      <td>P</td>\n",
       "      <td>B_P</td>\n",
       "      <td>0.0</td>\n",
       "      <td>1</td>\n",
       "    </tr>\n",
       "    <tr>\n",
       "      <th>1</th>\n",
       "      <td>Earth</td>\n",
       "      <td>0</td>\n",
       "      <td>TRAPPIST-1e</td>\n",
       "      <td>24</td>\n",
       "      <td>0</td>\n",
       "      <td>109.0</td>\n",
       "      <td>9.0</td>\n",
       "      <td>25.0</td>\n",
       "      <td>549.0</td>\n",
       "      <td>44.0</td>\n",
       "      <td>True</td>\n",
       "      <td>F</td>\n",
       "      <td>S</td>\n",
       "      <td>F_S</td>\n",
       "      <td>736.0</td>\n",
       "      <td>1</td>\n",
       "    </tr>\n",
       "    <tr>\n",
       "      <th>2</th>\n",
       "      <td>Europa</td>\n",
       "      <td>0</td>\n",
       "      <td>TRAPPIST-1e</td>\n",
       "      <td>58</td>\n",
       "      <td>1</td>\n",
       "      <td>43.0</td>\n",
       "      <td>3576.0</td>\n",
       "      <td>0.0</td>\n",
       "      <td>6715.0</td>\n",
       "      <td>49.0</td>\n",
       "      <td>False</td>\n",
       "      <td>A</td>\n",
       "      <td>S</td>\n",
       "      <td>A_S</td>\n",
       "      <td>10383.0</td>\n",
       "      <td>2</td>\n",
       "    </tr>\n",
       "    <tr>\n",
       "      <th>3</th>\n",
       "      <td>Europa</td>\n",
       "      <td>0</td>\n",
       "      <td>TRAPPIST-1e</td>\n",
       "      <td>33</td>\n",
       "      <td>0</td>\n",
       "      <td>0.0</td>\n",
       "      <td>1283.0</td>\n",
       "      <td>371.0</td>\n",
       "      <td>3329.0</td>\n",
       "      <td>193.0</td>\n",
       "      <td>False</td>\n",
       "      <td>A</td>\n",
       "      <td>S</td>\n",
       "      <td>A_S</td>\n",
       "      <td>5176.0</td>\n",
       "      <td>2</td>\n",
       "    </tr>\n",
       "    <tr>\n",
       "      <th>4</th>\n",
       "      <td>Earth</td>\n",
       "      <td>0</td>\n",
       "      <td>TRAPPIST-1e</td>\n",
       "      <td>16</td>\n",
       "      <td>0</td>\n",
       "      <td>303.0</td>\n",
       "      <td>70.0</td>\n",
       "      <td>151.0</td>\n",
       "      <td>565.0</td>\n",
       "      <td>2.0</td>\n",
       "      <td>True</td>\n",
       "      <td>F</td>\n",
       "      <td>S</td>\n",
       "      <td>F_S</td>\n",
       "      <td>1091.0</td>\n",
       "      <td>1</td>\n",
       "    </tr>\n",
       "    <tr>\n",
       "      <th>...</th>\n",
       "      <td>...</td>\n",
       "      <td>...</td>\n",
       "      <td>...</td>\n",
       "      <td>...</td>\n",
       "      <td>...</td>\n",
       "      <td>...</td>\n",
       "      <td>...</td>\n",
       "      <td>...</td>\n",
       "      <td>...</td>\n",
       "      <td>...</td>\n",
       "      <td>...</td>\n",
       "      <td>...</td>\n",
       "      <td>...</td>\n",
       "      <td>...</td>\n",
       "      <td>...</td>\n",
       "      <td>...</td>\n",
       "    </tr>\n",
       "    <tr>\n",
       "      <th>8688</th>\n",
       "      <td>Europa</td>\n",
       "      <td>0</td>\n",
       "      <td>55 Cancri e</td>\n",
       "      <td>41</td>\n",
       "      <td>1</td>\n",
       "      <td>0.0</td>\n",
       "      <td>6819.0</td>\n",
       "      <td>0.0</td>\n",
       "      <td>1643.0</td>\n",
       "      <td>74.0</td>\n",
       "      <td>False</td>\n",
       "      <td>A</td>\n",
       "      <td>P</td>\n",
       "      <td>A_P</td>\n",
       "      <td>8536.0</td>\n",
       "      <td>1</td>\n",
       "    </tr>\n",
       "    <tr>\n",
       "      <th>8689</th>\n",
       "      <td>Earth</td>\n",
       "      <td>1</td>\n",
       "      <td>PSO J318.5-22</td>\n",
       "      <td>18</td>\n",
       "      <td>0</td>\n",
       "      <td>0.0</td>\n",
       "      <td>0.0</td>\n",
       "      <td>0.0</td>\n",
       "      <td>0.0</td>\n",
       "      <td>0.0</td>\n",
       "      <td>False</td>\n",
       "      <td>G</td>\n",
       "      <td>S</td>\n",
       "      <td>G_S</td>\n",
       "      <td>0.0</td>\n",
       "      <td>1</td>\n",
       "    </tr>\n",
       "    <tr>\n",
       "      <th>8690</th>\n",
       "      <td>Earth</td>\n",
       "      <td>0</td>\n",
       "      <td>TRAPPIST-1e</td>\n",
       "      <td>26</td>\n",
       "      <td>0</td>\n",
       "      <td>0.0</td>\n",
       "      <td>0.0</td>\n",
       "      <td>1872.0</td>\n",
       "      <td>1.0</td>\n",
       "      <td>0.0</td>\n",
       "      <td>True</td>\n",
       "      <td>G</td>\n",
       "      <td>S</td>\n",
       "      <td>G_S</td>\n",
       "      <td>1873.0</td>\n",
       "      <td>1</td>\n",
       "    </tr>\n",
       "    <tr>\n",
       "      <th>8691</th>\n",
       "      <td>Europa</td>\n",
       "      <td>0</td>\n",
       "      <td>55 Cancri e</td>\n",
       "      <td>32</td>\n",
       "      <td>0</td>\n",
       "      <td>0.0</td>\n",
       "      <td>1049.0</td>\n",
       "      <td>0.0</td>\n",
       "      <td>353.0</td>\n",
       "      <td>3235.0</td>\n",
       "      <td>False</td>\n",
       "      <td>E</td>\n",
       "      <td>S</td>\n",
       "      <td>E_S</td>\n",
       "      <td>4637.0</td>\n",
       "      <td>2</td>\n",
       "    </tr>\n",
       "    <tr>\n",
       "      <th>8692</th>\n",
       "      <td>Europa</td>\n",
       "      <td>0</td>\n",
       "      <td>TRAPPIST-1e</td>\n",
       "      <td>44</td>\n",
       "      <td>0</td>\n",
       "      <td>126.0</td>\n",
       "      <td>4688.0</td>\n",
       "      <td>0.0</td>\n",
       "      <td>0.0</td>\n",
       "      <td>12.0</td>\n",
       "      <td>True</td>\n",
       "      <td>E</td>\n",
       "      <td>S</td>\n",
       "      <td>E_S</td>\n",
       "      <td>4826.0</td>\n",
       "      <td>2</td>\n",
       "    </tr>\n",
       "  </tbody>\n",
       "</table>\n",
       "<p>8693 rows × 16 columns</p>\n",
       "</div>"
      ],
      "text/plain": [
       "     HomePlanet  CryoSleep    Destination  Age  VIP  RoomService  FoodCourt   \n",
       "0        Europa          0    TRAPPIST-1e   39    0          0.0        0.0  \\\n",
       "1         Earth          0    TRAPPIST-1e   24    0        109.0        9.0   \n",
       "2        Europa          0    TRAPPIST-1e   58    1         43.0     3576.0   \n",
       "3        Europa          0    TRAPPIST-1e   33    0          0.0     1283.0   \n",
       "4         Earth          0    TRAPPIST-1e   16    0        303.0       70.0   \n",
       "...         ...        ...            ...  ...  ...          ...        ...   \n",
       "8688     Europa          0    55 Cancri e   41    1          0.0     6819.0   \n",
       "8689      Earth          1  PSO J318.5-22   18    0          0.0        0.0   \n",
       "8690      Earth          0    TRAPPIST-1e   26    0          0.0        0.0   \n",
       "8691     Europa          0    55 Cancri e   32    0          0.0     1049.0   \n",
       "8692     Europa          0    TRAPPIST-1e   44    0        126.0     4688.0   \n",
       "\n",
       "      ShoppingMall     Spa  VRDeck  Transported Deck Side CabinLocation   \n",
       "0              0.0     0.0     0.0        False    B    P           B_P  \\\n",
       "1             25.0   549.0    44.0         True    F    S           F_S   \n",
       "2              0.0  6715.0    49.0        False    A    S           A_S   \n",
       "3            371.0  3329.0   193.0        False    A    S           A_S   \n",
       "4            151.0   565.0     2.0         True    F    S           F_S   \n",
       "...            ...     ...     ...          ...  ...  ...           ...   \n",
       "8688           0.0  1643.0    74.0        False    A    P           A_P   \n",
       "8689           0.0     0.0     0.0        False    G    S           G_S   \n",
       "8690        1872.0     1.0     0.0         True    G    S           G_S   \n",
       "8691           0.0   353.0  3235.0        False    E    S           E_S   \n",
       "8692           0.0     0.0    12.0         True    E    S           E_S   \n",
       "\n",
       "      TotalSpending  FamilyGroupSize  \n",
       "0               0.0                1  \n",
       "1             736.0                1  \n",
       "2           10383.0                2  \n",
       "3            5176.0                2  \n",
       "4            1091.0                1  \n",
       "...             ...              ...  \n",
       "8688         8536.0                1  \n",
       "8689            0.0                1  \n",
       "8690         1873.0                1  \n",
       "8691         4637.0                2  \n",
       "8692         4826.0                2  \n",
       "\n",
       "[8693 rows x 16 columns]"
      ]
     },
     "execution_count": 92,
     "metadata": {},
     "output_type": "execute_result"
    }
   ],
   "source": [
    "train_data"
   ]
  },
  {
   "cell_type": "markdown",
   "id": "8f8e7ecb-b257-413b-ba19-b8a3290710c5",
   "metadata": {},
   "source": [
    "### Feature Engineering"
   ]
  },
  {
   "cell_type": "code",
   "execution_count": 93,
   "id": "8c44f2cf-4a17-4e52-9df4-91d8a03c95f4",
   "metadata": {},
   "outputs": [],
   "source": [
    "from sklearn.model_selection import train_test_split"
   ]
  },
  {
   "cell_type": "code",
   "execution_count": 94,
   "id": "0d036e68-c5db-4c14-9bc5-516c1037d827",
   "metadata": {},
   "outputs": [],
   "source": [
    "X_train, X_val, y_train, y_val = train_test_split(train_data.drop(columns=[\"Transported\"], axis=1), train_data[\"Transported\"], random_state=42, test_size=0.3)"
   ]
  },
  {
   "cell_type": "code",
   "execution_count": 95,
   "id": "cc49387d-f5d1-40c8-8b40-3d370bfdb29d",
   "metadata": {},
   "outputs": [],
   "source": [
    "X_train = train_data.drop(columns=[\"Transported\"], axis=1)"
   ]
  },
  {
   "cell_type": "code",
   "execution_count": 96,
   "id": "8246df16-104c-4aa1-8902-b87d237e2c0a",
   "metadata": {},
   "outputs": [],
   "source": [
    "from sklearn.preprocessing import StandardScaler"
   ]
  },
  {
   "cell_type": "code",
   "execution_count": 97,
   "id": "2c4acb13-2b3a-4730-a423-2f1b3984c91a",
   "metadata": {},
   "outputs": [],
   "source": [
    "scaler = StandardScaler()"
   ]
  },
  {
   "cell_type": "code",
   "execution_count": 98,
   "id": "c2c8ee08-d961-40c6-96c2-b8ac478c5993",
   "metadata": {},
   "outputs": [],
   "source": [
    "# feature_data = scaler.fit_transform(X_train[[\"RoomService\", \"FoodCourt\", \"ShoppingMall\", \"Spa\", \"VRDeck\", \"TotalSpending\", \"Age\"]])\n",
    "feature_data = scaler.fit_transform(X_train[[\"RoomService\", \"FoodCourt\", \"ShoppingMall\", \"Spa\", \"VRDeck\", \"Age\", \"TotalSpending\"]])"
   ]
  },
  {
   "cell_type": "code",
   "execution_count": 99,
   "id": "276acf01-b1d1-4a6e-9e1e-0b002ac10f00",
   "metadata": {},
   "outputs": [],
   "source": [
    "feature_matrix = pd.DataFrame(feature_data, columns=scaler.get_feature_names_out())"
   ]
  },
  {
   "cell_type": "code",
   "execution_count": 100,
   "id": "782736b0-8b09-4653-a900-22ec663f1626",
   "metadata": {},
   "outputs": [],
   "source": [
    "# val_feature_data = scaler.transform(X_val[[\"RoomService\", \"FoodCourt\", \"ShoppingMall\", \"Spa\", \"VRDeck\", \"TotalSpending\", \"Age\"]])\n",
    "val_feature_data = scaler.transform(X_val[[\"RoomService\", \"FoodCourt\", \"ShoppingMall\", \"Spa\", \"VRDeck\", \"Age\",\"TotalSpending\"]])"
   ]
  },
  {
   "cell_type": "code",
   "execution_count": 101,
   "id": "7f1115a2-1455-421a-9639-dfabd15e02e6",
   "metadata": {},
   "outputs": [],
   "source": [
    "val_feature_matrix = pd.DataFrame(val_feature_data, columns=scaler.get_feature_names_out())"
   ]
  },
  {
   "cell_type": "code",
   "execution_count": 102,
   "id": "19f8d280-5bb1-4bba-85b8-ea61f248bebf",
   "metadata": {},
   "outputs": [],
   "source": [
    "feature_matrix = pd.concat([feature_matrix, X_train[[\"CryoSleep\", \"VIP\", \"HomePlanet\", \"Destination\", \"Deck\", \"Side\", \"CabinLocation\",\"FamilyGroupSize\"]].reset_index().drop(columns=[\"index\"], axis=0)], axis=1)\n",
    "# feature_matrix = pd.concat([feature_matrix, X_train[[\"CryoSleep\", \"VIP\", \"HomePlanet\", \"Destination\", \"Deck\", \"Side\"]].reset_index().drop(columns=[\"index\"], axis=0)], axis=1)"
   ]
  },
  {
   "cell_type": "code",
   "execution_count": 103,
   "id": "4eaf577a-1792-4b51-bafe-924b1ff70b02",
   "metadata": {},
   "outputs": [],
   "source": [
    "val_feature_matrix = pd.concat([val_feature_matrix, X_val[[\"CryoSleep\", \"VIP\", \"HomePlanet\", \"Destination\", \"Deck\", \"Side\", \"CabinLocation\",\"FamilyGroupSize\"]].reset_index().drop(columns=[\"index\"], axis=0)], axis=1)\n",
    "# val_feature_matrix = pd.concat([val_feature_matrix, X_val[[\"CryoSleep\", \"VIP\", \"HomePlanet\", \"Destination\", \"Deck\", \"Side\"]].reset_index().drop(columns=[\"index\"], axis=0)], axis=1)"
   ]
  },
  {
   "cell_type": "code",
   "execution_count": 104,
   "id": "26c2ce1e-1e2d-4e0e-a668-b820a6ee95fb",
   "metadata": {},
   "outputs": [],
   "source": [
    "X_train['CabinLocation'], fact_unique = X_train.CabinLocation.factorize()"
   ]
  },
  {
   "cell_type": "code",
   "execution_count": 105,
   "id": "96862831-ffce-4060-a9d6-ee6ef669792a",
   "metadata": {},
   "outputs": [],
   "source": [
    "X_val['CabinLocation'] = pd.Categorical(X_val[\"CabinLocation\"], categories=fact_unique)"
   ]
  },
  {
   "cell_type": "code",
   "execution_count": 106,
   "id": "e197d6b8-d114-4fcb-99fa-c8f573833d59",
   "metadata": {},
   "outputs": [],
   "source": [
    "from sklearn.preprocessing import OneHotEncoder"
   ]
  },
  {
   "cell_type": "code",
   "execution_count": 107,
   "id": "a311fa4f-9082-4539-a42e-32f273c926c0",
   "metadata": {},
   "outputs": [],
   "source": [
    "ohc = OneHotEncoder(sparse=False, handle_unknown=\"ignore\")"
   ]
  },
  {
   "cell_type": "code",
   "execution_count": 108,
   "id": "a748c2eb-66c8-46c9-8065-11c28050f62e",
   "metadata": {},
   "outputs": [
    {
     "name": "stderr",
     "output_type": "stream",
     "text": [
      "/Users/utkarshdabholkar/Library/Python/3.9/lib/python/site-packages/sklearn/preprocessing/_encoders.py:975: FutureWarning: `sparse` was renamed to `sparse_output` in version 1.2 and will be removed in 1.4. `sparse_output` is ignored unless you leave `sparse` to its default value.\n",
      "  warnings.warn(\n"
     ]
    }
   ],
   "source": [
    "deck_side_features = ohc.fit_transform(feature_matrix[[\"HomePlanet\", \"Destination\", \"Deck\", \"Side\", \"CabinLocation\",\"FamilyGroupSize\"]])\n",
    "# deck_side_features = ohc.fit_transform(feature_matrix[[\"HomePlanet\", \"Destination\", \"Deck\", \"Side\"]])"
   ]
  },
  {
   "cell_type": "code",
   "execution_count": 109,
   "id": "3f4525fd-f05c-4a12-8282-41abd2e5c696",
   "metadata": {},
   "outputs": [],
   "source": [
    "deck_side_features_val = ohc.transform(val_feature_matrix[[\"HomePlanet\", \"Destination\", \"Deck\", \"Side\", \"CabinLocation\",\"FamilyGroupSize\"]])\n",
    "# deck_side_features_val = ohc.transform(val_feature_matrix[[\"HomePlanet\", \"Destination\", \"Deck\", \"Side\"]])"
   ]
  },
  {
   "cell_type": "code",
   "execution_count": 110,
   "id": "a7f76d98-65f3-4a10-b400-fad4554ecf84",
   "metadata": {},
   "outputs": [],
   "source": [
    "feature_matrix = pd.concat([feature_matrix, pd.DataFrame(deck_side_features, columns=ohc.get_feature_names_out())], axis=1)"
   ]
  },
  {
   "cell_type": "code",
   "execution_count": 111,
   "id": "81296cf7-a6bb-4a85-9f3e-67c68e9d2e19",
   "metadata": {},
   "outputs": [],
   "source": [
    "feature_matrix.drop(columns=[\"HomePlanet\", \"Destination\", \"Deck\", \"Side\", \"CabinLocation\",\"FamilyGroupSize\"], axis=1, inplace=True)\n",
    "# feature_matrix.drop(columns=[\"HomePlanet\", \"Destination\", \"Deck\", \"Side\"], axis=1, inplace=True)"
   ]
  },
  {
   "cell_type": "code",
   "execution_count": 112,
   "id": "1e031254-3631-4f1c-b98d-f43b7dd5ebae",
   "metadata": {},
   "outputs": [],
   "source": [
    "val_feature_matrix = pd.concat([val_feature_matrix, pd.DataFrame(deck_side_features_val, columns=ohc.get_feature_names_out())], axis=1)"
   ]
  },
  {
   "cell_type": "code",
   "execution_count": 113,
   "id": "7e780a89-0bec-4659-8518-c4b94fe4aaaf",
   "metadata": {},
   "outputs": [],
   "source": [
    "val_feature_matrix.drop(columns=[\"HomePlanet\", \"Destination\", \"Deck\", \"Side\", \"CabinLocation\",\"FamilyGroupSize\"], axis=1, inplace=True)\n",
    "# val_feature_matrix.drop(columns=[\"HomePlanet\", \"Destination\", \"Deck\", \"Side\"], axis=1, inplace=True)"
   ]
  },
  {
   "cell_type": "code",
   "execution_count": 114,
   "id": "8d83c1ef-12d0-4dfa-ba16-31e9f422eb57",
   "metadata": {},
   "outputs": [
    {
     "data": {
      "text/html": [
       "<div>\n",
       "<style scoped>\n",
       "    .dataframe tbody tr th:only-of-type {\n",
       "        vertical-align: middle;\n",
       "    }\n",
       "\n",
       "    .dataframe tbody tr th {\n",
       "        vertical-align: top;\n",
       "    }\n",
       "\n",
       "    .dataframe thead th {\n",
       "        text-align: right;\n",
       "    }\n",
       "</style>\n",
       "<table border=\"1\" class=\"dataframe\">\n",
       "  <thead>\n",
       "    <tr style=\"text-align: right;\">\n",
       "      <th></th>\n",
       "      <th>RoomService</th>\n",
       "      <th>FoodCourt</th>\n",
       "      <th>ShoppingMall</th>\n",
       "      <th>Spa</th>\n",
       "      <th>VRDeck</th>\n",
       "      <th>Age</th>\n",
       "      <th>TotalSpending</th>\n",
       "      <th>CryoSleep</th>\n",
       "      <th>VIP</th>\n",
       "      <th>HomePlanet_Earth</th>\n",
       "      <th>...</th>\n",
       "      <th>CabinLocation_T_P</th>\n",
       "      <th>CabinLocation_T_S</th>\n",
       "      <th>FamilyGroupSize_1</th>\n",
       "      <th>FamilyGroupSize_2</th>\n",
       "      <th>FamilyGroupSize_3</th>\n",
       "      <th>FamilyGroupSize_4</th>\n",
       "      <th>FamilyGroupSize_5</th>\n",
       "      <th>FamilyGroupSize_6</th>\n",
       "      <th>FamilyGroupSize_7</th>\n",
       "      <th>FamilyGroupSize_8</th>\n",
       "    </tr>\n",
       "  </thead>\n",
       "  <tbody>\n",
       "    <tr>\n",
       "      <th>0</th>\n",
       "      <td>-0.333105</td>\n",
       "      <td>-0.281027</td>\n",
       "      <td>-0.283579</td>\n",
       "      <td>-0.270626</td>\n",
       "      <td>-0.263003</td>\n",
       "      <td>0.710602</td>\n",
       "      <td>-0.514066</td>\n",
       "      <td>0</td>\n",
       "      <td>0</td>\n",
       "      <td>0.0</td>\n",
       "      <td>...</td>\n",
       "      <td>0.0</td>\n",
       "      <td>0.0</td>\n",
       "      <td>1.0</td>\n",
       "      <td>0.0</td>\n",
       "      <td>0.0</td>\n",
       "      <td>0.0</td>\n",
       "      <td>0.0</td>\n",
       "      <td>0.0</td>\n",
       "      <td>0.0</td>\n",
       "      <td>0.0</td>\n",
       "    </tr>\n",
       "    <tr>\n",
       "      <th>1</th>\n",
       "      <td>-0.168073</td>\n",
       "      <td>-0.275387</td>\n",
       "      <td>-0.241771</td>\n",
       "      <td>0.217158</td>\n",
       "      <td>-0.224205</td>\n",
       "      <td>-0.335517</td>\n",
       "      <td>-0.251479</td>\n",
       "      <td>0</td>\n",
       "      <td>0</td>\n",
       "      <td>1.0</td>\n",
       "      <td>...</td>\n",
       "      <td>0.0</td>\n",
       "      <td>0.0</td>\n",
       "      <td>1.0</td>\n",
       "      <td>0.0</td>\n",
       "      <td>0.0</td>\n",
       "      <td>0.0</td>\n",
       "      <td>0.0</td>\n",
       "      <td>0.0</td>\n",
       "      <td>0.0</td>\n",
       "      <td>0.0</td>\n",
       "    </tr>\n",
       "    <tr>\n",
       "      <th>2</th>\n",
       "      <td>-0.268001</td>\n",
       "      <td>1.959998</td>\n",
       "      <td>-0.283579</td>\n",
       "      <td>5.695623</td>\n",
       "      <td>-0.219796</td>\n",
       "      <td>2.035686</td>\n",
       "      <td>3.190333</td>\n",
       "      <td>0</td>\n",
       "      <td>1</td>\n",
       "      <td>0.0</td>\n",
       "      <td>...</td>\n",
       "      <td>0.0</td>\n",
       "      <td>0.0</td>\n",
       "      <td>0.0</td>\n",
       "      <td>1.0</td>\n",
       "      <td>0.0</td>\n",
       "      <td>0.0</td>\n",
       "      <td>0.0</td>\n",
       "      <td>0.0</td>\n",
       "      <td>0.0</td>\n",
       "      <td>0.0</td>\n",
       "    </tr>\n",
       "    <tr>\n",
       "      <th>3</th>\n",
       "      <td>-0.333105</td>\n",
       "      <td>0.523010</td>\n",
       "      <td>0.336851</td>\n",
       "      <td>2.687176</td>\n",
       "      <td>-0.092818</td>\n",
       "      <td>0.292154</td>\n",
       "      <td>1.332604</td>\n",
       "      <td>0</td>\n",
       "      <td>0</td>\n",
       "      <td>0.0</td>\n",
       "      <td>...</td>\n",
       "      <td>0.0</td>\n",
       "      <td>0.0</td>\n",
       "      <td>0.0</td>\n",
       "      <td>1.0</td>\n",
       "      <td>0.0</td>\n",
       "      <td>0.0</td>\n",
       "      <td>0.0</td>\n",
       "      <td>0.0</td>\n",
       "      <td>0.0</td>\n",
       "      <td>0.0</td>\n",
       "    </tr>\n",
       "    <tr>\n",
       "      <th>4</th>\n",
       "      <td>0.125652</td>\n",
       "      <td>-0.237159</td>\n",
       "      <td>-0.031059</td>\n",
       "      <td>0.231374</td>\n",
       "      <td>-0.261240</td>\n",
       "      <td>-0.893447</td>\n",
       "      <td>-0.124824</td>\n",
       "      <td>0</td>\n",
       "      <td>0</td>\n",
       "      <td>1.0</td>\n",
       "      <td>...</td>\n",
       "      <td>0.0</td>\n",
       "      <td>0.0</td>\n",
       "      <td>1.0</td>\n",
       "      <td>0.0</td>\n",
       "      <td>0.0</td>\n",
       "      <td>0.0</td>\n",
       "      <td>0.0</td>\n",
       "      <td>0.0</td>\n",
       "      <td>0.0</td>\n",
       "      <td>0.0</td>\n",
       "    </tr>\n",
       "    <tr>\n",
       "      <th>...</th>\n",
       "      <td>...</td>\n",
       "      <td>...</td>\n",
       "      <td>...</td>\n",
       "      <td>...</td>\n",
       "      <td>...</td>\n",
       "      <td>...</td>\n",
       "      <td>...</td>\n",
       "      <td>...</td>\n",
       "      <td>...</td>\n",
       "      <td>...</td>\n",
       "      <td>...</td>\n",
       "      <td>...</td>\n",
       "      <td>...</td>\n",
       "      <td>...</td>\n",
       "      <td>...</td>\n",
       "      <td>...</td>\n",
       "      <td>...</td>\n",
       "      <td>...</td>\n",
       "      <td>...</td>\n",
       "      <td>...</td>\n",
       "      <td>...</td>\n",
       "    </tr>\n",
       "    <tr>\n",
       "      <th>8688</th>\n",
       "      <td>-0.333105</td>\n",
       "      <td>3.992336</td>\n",
       "      <td>-0.283579</td>\n",
       "      <td>1.189173</td>\n",
       "      <td>-0.197751</td>\n",
       "      <td>0.850085</td>\n",
       "      <td>2.531369</td>\n",
       "      <td>0</td>\n",
       "      <td>1</td>\n",
       "      <td>0.0</td>\n",
       "      <td>...</td>\n",
       "      <td>0.0</td>\n",
       "      <td>0.0</td>\n",
       "      <td>1.0</td>\n",
       "      <td>0.0</td>\n",
       "      <td>0.0</td>\n",
       "      <td>0.0</td>\n",
       "      <td>0.0</td>\n",
       "      <td>0.0</td>\n",
       "      <td>0.0</td>\n",
       "      <td>0.0</td>\n",
       "    </tr>\n",
       "    <tr>\n",
       "      <th>8689</th>\n",
       "      <td>-0.333105</td>\n",
       "      <td>-0.281027</td>\n",
       "      <td>-0.283579</td>\n",
       "      <td>-0.270626</td>\n",
       "      <td>-0.263003</td>\n",
       "      <td>-0.753965</td>\n",
       "      <td>-0.514066</td>\n",
       "      <td>1</td>\n",
       "      <td>0</td>\n",
       "      <td>1.0</td>\n",
       "      <td>...</td>\n",
       "      <td>0.0</td>\n",
       "      <td>0.0</td>\n",
       "      <td>1.0</td>\n",
       "      <td>0.0</td>\n",
       "      <td>0.0</td>\n",
       "      <td>0.0</td>\n",
       "      <td>0.0</td>\n",
       "      <td>0.0</td>\n",
       "      <td>0.0</td>\n",
       "      <td>0.0</td>\n",
       "    </tr>\n",
       "    <tr>\n",
       "      <th>8690</th>\n",
       "      <td>-0.333105</td>\n",
       "      <td>-0.281027</td>\n",
       "      <td>2.846999</td>\n",
       "      <td>-0.269737</td>\n",
       "      <td>-0.263003</td>\n",
       "      <td>-0.196035</td>\n",
       "      <td>0.154175</td>\n",
       "      <td>0</td>\n",
       "      <td>0</td>\n",
       "      <td>1.0</td>\n",
       "      <td>...</td>\n",
       "      <td>0.0</td>\n",
       "      <td>0.0</td>\n",
       "      <td>1.0</td>\n",
       "      <td>0.0</td>\n",
       "      <td>0.0</td>\n",
       "      <td>0.0</td>\n",
       "      <td>0.0</td>\n",
       "      <td>0.0</td>\n",
       "      <td>0.0</td>\n",
       "      <td>0.0</td>\n",
       "    </tr>\n",
       "    <tr>\n",
       "      <th>8691</th>\n",
       "      <td>-0.333105</td>\n",
       "      <td>0.376365</td>\n",
       "      <td>-0.283579</td>\n",
       "      <td>0.043013</td>\n",
       "      <td>2.589576</td>\n",
       "      <td>0.222413</td>\n",
       "      <td>1.140302</td>\n",
       "      <td>0</td>\n",
       "      <td>0</td>\n",
       "      <td>0.0</td>\n",
       "      <td>...</td>\n",
       "      <td>0.0</td>\n",
       "      <td>0.0</td>\n",
       "      <td>0.0</td>\n",
       "      <td>1.0</td>\n",
       "      <td>0.0</td>\n",
       "      <td>0.0</td>\n",
       "      <td>0.0</td>\n",
       "      <td>0.0</td>\n",
       "      <td>0.0</td>\n",
       "      <td>0.0</td>\n",
       "    </tr>\n",
       "    <tr>\n",
       "      <th>8692</th>\n",
       "      <td>-0.142335</td>\n",
       "      <td>2.656871</td>\n",
       "      <td>-0.283579</td>\n",
       "      <td>-0.270626</td>\n",
       "      <td>-0.252422</td>\n",
       "      <td>1.059308</td>\n",
       "      <td>1.207732</td>\n",
       "      <td>0</td>\n",
       "      <td>0</td>\n",
       "      <td>0.0</td>\n",
       "      <td>...</td>\n",
       "      <td>0.0</td>\n",
       "      <td>0.0</td>\n",
       "      <td>0.0</td>\n",
       "      <td>1.0</td>\n",
       "      <td>0.0</td>\n",
       "      <td>0.0</td>\n",
       "      <td>0.0</td>\n",
       "      <td>0.0</td>\n",
       "      <td>0.0</td>\n",
       "      <td>0.0</td>\n",
       "    </tr>\n",
       "  </tbody>\n",
       "</table>\n",
       "<p>8693 rows × 49 columns</p>\n",
       "</div>"
      ],
      "text/plain": [
       "      RoomService  FoodCourt  ShoppingMall       Spa    VRDeck       Age   \n",
       "0       -0.333105  -0.281027     -0.283579 -0.270626 -0.263003  0.710602  \\\n",
       "1       -0.168073  -0.275387     -0.241771  0.217158 -0.224205 -0.335517   \n",
       "2       -0.268001   1.959998     -0.283579  5.695623 -0.219796  2.035686   \n",
       "3       -0.333105   0.523010      0.336851  2.687176 -0.092818  0.292154   \n",
       "4        0.125652  -0.237159     -0.031059  0.231374 -0.261240 -0.893447   \n",
       "...           ...        ...           ...       ...       ...       ...   \n",
       "8688    -0.333105   3.992336     -0.283579  1.189173 -0.197751  0.850085   \n",
       "8689    -0.333105  -0.281027     -0.283579 -0.270626 -0.263003 -0.753965   \n",
       "8690    -0.333105  -0.281027      2.846999 -0.269737 -0.263003 -0.196035   \n",
       "8691    -0.333105   0.376365     -0.283579  0.043013  2.589576  0.222413   \n",
       "8692    -0.142335   2.656871     -0.283579 -0.270626 -0.252422  1.059308   \n",
       "\n",
       "      TotalSpending  CryoSleep  VIP  HomePlanet_Earth  ...  CabinLocation_T_P   \n",
       "0         -0.514066          0    0               0.0  ...                0.0  \\\n",
       "1         -0.251479          0    0               1.0  ...                0.0   \n",
       "2          3.190333          0    1               0.0  ...                0.0   \n",
       "3          1.332604          0    0               0.0  ...                0.0   \n",
       "4         -0.124824          0    0               1.0  ...                0.0   \n",
       "...             ...        ...  ...               ...  ...                ...   \n",
       "8688       2.531369          0    1               0.0  ...                0.0   \n",
       "8689      -0.514066          1    0               1.0  ...                0.0   \n",
       "8690       0.154175          0    0               1.0  ...                0.0   \n",
       "8691       1.140302          0    0               0.0  ...                0.0   \n",
       "8692       1.207732          0    0               0.0  ...                0.0   \n",
       "\n",
       "      CabinLocation_T_S  FamilyGroupSize_1  FamilyGroupSize_2   \n",
       "0                   0.0                1.0                0.0  \\\n",
       "1                   0.0                1.0                0.0   \n",
       "2                   0.0                0.0                1.0   \n",
       "3                   0.0                0.0                1.0   \n",
       "4                   0.0                1.0                0.0   \n",
       "...                 ...                ...                ...   \n",
       "8688                0.0                1.0                0.0   \n",
       "8689                0.0                1.0                0.0   \n",
       "8690                0.0                1.0                0.0   \n",
       "8691                0.0                0.0                1.0   \n",
       "8692                0.0                0.0                1.0   \n",
       "\n",
       "      FamilyGroupSize_3  FamilyGroupSize_4  FamilyGroupSize_5   \n",
       "0                   0.0                0.0                0.0  \\\n",
       "1                   0.0                0.0                0.0   \n",
       "2                   0.0                0.0                0.0   \n",
       "3                   0.0                0.0                0.0   \n",
       "4                   0.0                0.0                0.0   \n",
       "...                 ...                ...                ...   \n",
       "8688                0.0                0.0                0.0   \n",
       "8689                0.0                0.0                0.0   \n",
       "8690                0.0                0.0                0.0   \n",
       "8691                0.0                0.0                0.0   \n",
       "8692                0.0                0.0                0.0   \n",
       "\n",
       "      FamilyGroupSize_6  FamilyGroupSize_7  FamilyGroupSize_8  \n",
       "0                   0.0                0.0                0.0  \n",
       "1                   0.0                0.0                0.0  \n",
       "2                   0.0                0.0                0.0  \n",
       "3                   0.0                0.0                0.0  \n",
       "4                   0.0                0.0                0.0  \n",
       "...                 ...                ...                ...  \n",
       "8688                0.0                0.0                0.0  \n",
       "8689                0.0                0.0                0.0  \n",
       "8690                0.0                0.0                0.0  \n",
       "8691                0.0                0.0                0.0  \n",
       "8692                0.0                0.0                0.0  \n",
       "\n",
       "[8693 rows x 49 columns]"
      ]
     },
     "execution_count": 114,
     "metadata": {},
     "output_type": "execute_result"
    }
   ],
   "source": [
    "feature_matrix"
   ]
  },
  {
   "cell_type": "markdown",
   "id": "633407fb-9457-4388-b621-8ec6571e2bf6",
   "metadata": {},
   "source": [
    "### Model Training"
   ]
  },
  {
   "cell_type": "code",
   "execution_count": 122,
   "id": "3f59bf96-d923-406e-86c2-ac19ed658f1f",
   "metadata": {},
   "outputs": [],
   "source": [
    "from sklearn.svm import SVC"
   ]
  },
  {
   "cell_type": "code",
   "execution_count": 123,
   "id": "e9ebe458-1f6c-44a3-9335-884f49468467",
   "metadata": {},
   "outputs": [],
   "source": [
    "svm_model = SVC(kernel=\"linear\")"
   ]
  },
  {
   "cell_type": "code",
   "execution_count": 124,
   "id": "9e79f17d-51d2-4fe6-bcdf-aba510bbb161",
   "metadata": {},
   "outputs": [
    {
     "data": {
      "text/html": [
       "<style>#sk-container-id-4 {color: black;}#sk-container-id-4 pre{padding: 0;}#sk-container-id-4 div.sk-toggleable {background-color: white;}#sk-container-id-4 label.sk-toggleable__label {cursor: pointer;display: block;width: 100%;margin-bottom: 0;padding: 0.3em;box-sizing: border-box;text-align: center;}#sk-container-id-4 label.sk-toggleable__label-arrow:before {content: \"▸\";float: left;margin-right: 0.25em;color: #696969;}#sk-container-id-4 label.sk-toggleable__label-arrow:hover:before {color: black;}#sk-container-id-4 div.sk-estimator:hover label.sk-toggleable__label-arrow:before {color: black;}#sk-container-id-4 div.sk-toggleable__content {max-height: 0;max-width: 0;overflow: hidden;text-align: left;background-color: #f0f8ff;}#sk-container-id-4 div.sk-toggleable__content pre {margin: 0.2em;color: black;border-radius: 0.25em;background-color: #f0f8ff;}#sk-container-id-4 input.sk-toggleable__control:checked~div.sk-toggleable__content {max-height: 200px;max-width: 100%;overflow: auto;}#sk-container-id-4 input.sk-toggleable__control:checked~label.sk-toggleable__label-arrow:before {content: \"▾\";}#sk-container-id-4 div.sk-estimator input.sk-toggleable__control:checked~label.sk-toggleable__label {background-color: #d4ebff;}#sk-container-id-4 div.sk-label input.sk-toggleable__control:checked~label.sk-toggleable__label {background-color: #d4ebff;}#sk-container-id-4 input.sk-hidden--visually {border: 0;clip: rect(1px 1px 1px 1px);clip: rect(1px, 1px, 1px, 1px);height: 1px;margin: -1px;overflow: hidden;padding: 0;position: absolute;width: 1px;}#sk-container-id-4 div.sk-estimator {font-family: monospace;background-color: #f0f8ff;border: 1px dotted black;border-radius: 0.25em;box-sizing: border-box;margin-bottom: 0.5em;}#sk-container-id-4 div.sk-estimator:hover {background-color: #d4ebff;}#sk-container-id-4 div.sk-parallel-item::after {content: \"\";width: 100%;border-bottom: 1px solid gray;flex-grow: 1;}#sk-container-id-4 div.sk-label:hover label.sk-toggleable__label {background-color: #d4ebff;}#sk-container-id-4 div.sk-serial::before {content: \"\";position: absolute;border-left: 1px solid gray;box-sizing: border-box;top: 0;bottom: 0;left: 50%;z-index: 0;}#sk-container-id-4 div.sk-serial {display: flex;flex-direction: column;align-items: center;background-color: white;padding-right: 0.2em;padding-left: 0.2em;position: relative;}#sk-container-id-4 div.sk-item {position: relative;z-index: 1;}#sk-container-id-4 div.sk-parallel {display: flex;align-items: stretch;justify-content: center;background-color: white;position: relative;}#sk-container-id-4 div.sk-item::before, #sk-container-id-4 div.sk-parallel-item::before {content: \"\";position: absolute;border-left: 1px solid gray;box-sizing: border-box;top: 0;bottom: 0;left: 50%;z-index: -1;}#sk-container-id-4 div.sk-parallel-item {display: flex;flex-direction: column;z-index: 1;position: relative;background-color: white;}#sk-container-id-4 div.sk-parallel-item:first-child::after {align-self: flex-end;width: 50%;}#sk-container-id-4 div.sk-parallel-item:last-child::after {align-self: flex-start;width: 50%;}#sk-container-id-4 div.sk-parallel-item:only-child::after {width: 0;}#sk-container-id-4 div.sk-dashed-wrapped {border: 1px dashed gray;margin: 0 0.4em 0.5em 0.4em;box-sizing: border-box;padding-bottom: 0.4em;background-color: white;}#sk-container-id-4 div.sk-label label {font-family: monospace;font-weight: bold;display: inline-block;line-height: 1.2em;}#sk-container-id-4 div.sk-label-container {text-align: center;}#sk-container-id-4 div.sk-container {/* jupyter's `normalize.less` sets `[hidden] { display: none; }` but bootstrap.min.css set `[hidden] { display: none !important; }` so we also need the `!important` here to be able to override the default hidden behavior on the sphinx rendered scikit-learn.org. See: https://github.com/scikit-learn/scikit-learn/issues/21755 */display: inline-block !important;position: relative;}#sk-container-id-4 div.sk-text-repr-fallback {display: none;}</style><div id=\"sk-container-id-4\" class=\"sk-top-container\"><div class=\"sk-text-repr-fallback\"><pre>SVC(kernel=&#x27;linear&#x27;)</pre><b>In a Jupyter environment, please rerun this cell to show the HTML representation or trust the notebook. <br />On GitHub, the HTML representation is unable to render, please try loading this page with nbviewer.org.</b></div><div class=\"sk-container\" hidden><div class=\"sk-item\"><div class=\"sk-estimator sk-toggleable\"><input class=\"sk-toggleable__control sk-hidden--visually\" id=\"sk-estimator-id-4\" type=\"checkbox\" checked><label for=\"sk-estimator-id-4\" class=\"sk-toggleable__label sk-toggleable__label-arrow\">SVC</label><div class=\"sk-toggleable__content\"><pre>SVC(kernel=&#x27;linear&#x27;)</pre></div></div></div></div></div>"
      ],
      "text/plain": [
       "SVC(kernel='linear')"
      ]
     },
     "execution_count": 124,
     "metadata": {},
     "output_type": "execute_result"
    }
   ],
   "source": [
    "# svm_model.fit(feature_matrix, y_train)\n",
    "svm_model.fit(feature_matrix, train_data[\"Transported\"])"
   ]
  },
  {
   "cell_type": "code",
   "execution_count": 125,
   "id": "f212fd9c-ee94-4a31-a89b-d7b262ac681e",
   "metadata": {},
   "outputs": [],
   "source": [
    "y_pred = svm_model.predict(val_feature_matrix)"
   ]
  },
  {
   "cell_type": "code",
   "execution_count": 126,
   "id": "840ee3ad-564c-4d71-9f71-000f9ea5bd53",
   "metadata": {},
   "outputs": [],
   "source": [
    "from sklearn.metrics import classification_report, accuracy_score"
   ]
  },
  {
   "cell_type": "code",
   "execution_count": 127,
   "id": "6b3fde69-c3c0-40da-b751-7ab0aedec14f",
   "metadata": {},
   "outputs": [
    {
     "name": "stdout",
     "output_type": "stream",
     "text": [
      "              precision    recall  f1-score   support\n",
      "\n",
      "       False       0.82      0.74      0.78      1289\n",
      "        True       0.77      0.85      0.81      1319\n",
      "\n",
      "    accuracy                           0.79      2608\n",
      "   macro avg       0.80      0.79      0.79      2608\n",
      "weighted avg       0.80      0.79      0.79      2608\n",
      "\n"
     ]
    }
   ],
   "source": [
    "print(classification_report(y_val, y_pred))"
   ]
  },
  {
   "cell_type": "code",
   "execution_count": 128,
   "id": "b7be676b-48e3-4feb-851f-c2677675a8e2",
   "metadata": {},
   "outputs": [
    {
     "name": "stdout",
     "output_type": "stream",
     "text": [
      "0.7937116564417178\n"
     ]
    }
   ],
   "source": [
    "print(accuracy_score(y_val, y_pred))"
   ]
  },
  {
   "cell_type": "markdown",
   "id": "c81016dd-1258-4c73-b594-e9695c948c65",
   "metadata": {},
   "source": [
    "### Random Forest"
   ]
  },
  {
   "cell_type": "code",
   "execution_count": 129,
   "id": "f39de80d-04c0-4cfd-beab-6f2bba0a109b",
   "metadata": {},
   "outputs": [],
   "source": [
    "from sklearn.ensemble import RandomForestClassifier"
   ]
  },
  {
   "cell_type": "code",
   "execution_count": 130,
   "id": "48cefe4e-98ea-4d86-86c3-45043d66e918",
   "metadata": {},
   "outputs": [],
   "source": [
    "rf = RandomForestClassifier(n_estimators=100, random_state=42)"
   ]
  },
  {
   "cell_type": "code",
   "execution_count": 131,
   "id": "96f8e510-d847-4ae5-94e8-c2adf004861f",
   "metadata": {},
   "outputs": [
    {
     "data": {
      "text/html": [
       "<style>#sk-container-id-5 {color: black;}#sk-container-id-5 pre{padding: 0;}#sk-container-id-5 div.sk-toggleable {background-color: white;}#sk-container-id-5 label.sk-toggleable__label {cursor: pointer;display: block;width: 100%;margin-bottom: 0;padding: 0.3em;box-sizing: border-box;text-align: center;}#sk-container-id-5 label.sk-toggleable__label-arrow:before {content: \"▸\";float: left;margin-right: 0.25em;color: #696969;}#sk-container-id-5 label.sk-toggleable__label-arrow:hover:before {color: black;}#sk-container-id-5 div.sk-estimator:hover label.sk-toggleable__label-arrow:before {color: black;}#sk-container-id-5 div.sk-toggleable__content {max-height: 0;max-width: 0;overflow: hidden;text-align: left;background-color: #f0f8ff;}#sk-container-id-5 div.sk-toggleable__content pre {margin: 0.2em;color: black;border-radius: 0.25em;background-color: #f0f8ff;}#sk-container-id-5 input.sk-toggleable__control:checked~div.sk-toggleable__content {max-height: 200px;max-width: 100%;overflow: auto;}#sk-container-id-5 input.sk-toggleable__control:checked~label.sk-toggleable__label-arrow:before {content: \"▾\";}#sk-container-id-5 div.sk-estimator input.sk-toggleable__control:checked~label.sk-toggleable__label {background-color: #d4ebff;}#sk-container-id-5 div.sk-label input.sk-toggleable__control:checked~label.sk-toggleable__label {background-color: #d4ebff;}#sk-container-id-5 input.sk-hidden--visually {border: 0;clip: rect(1px 1px 1px 1px);clip: rect(1px, 1px, 1px, 1px);height: 1px;margin: -1px;overflow: hidden;padding: 0;position: absolute;width: 1px;}#sk-container-id-5 div.sk-estimator {font-family: monospace;background-color: #f0f8ff;border: 1px dotted black;border-radius: 0.25em;box-sizing: border-box;margin-bottom: 0.5em;}#sk-container-id-5 div.sk-estimator:hover {background-color: #d4ebff;}#sk-container-id-5 div.sk-parallel-item::after {content: \"\";width: 100%;border-bottom: 1px solid gray;flex-grow: 1;}#sk-container-id-5 div.sk-label:hover label.sk-toggleable__label {background-color: #d4ebff;}#sk-container-id-5 div.sk-serial::before {content: \"\";position: absolute;border-left: 1px solid gray;box-sizing: border-box;top: 0;bottom: 0;left: 50%;z-index: 0;}#sk-container-id-5 div.sk-serial {display: flex;flex-direction: column;align-items: center;background-color: white;padding-right: 0.2em;padding-left: 0.2em;position: relative;}#sk-container-id-5 div.sk-item {position: relative;z-index: 1;}#sk-container-id-5 div.sk-parallel {display: flex;align-items: stretch;justify-content: center;background-color: white;position: relative;}#sk-container-id-5 div.sk-item::before, #sk-container-id-5 div.sk-parallel-item::before {content: \"\";position: absolute;border-left: 1px solid gray;box-sizing: border-box;top: 0;bottom: 0;left: 50%;z-index: -1;}#sk-container-id-5 div.sk-parallel-item {display: flex;flex-direction: column;z-index: 1;position: relative;background-color: white;}#sk-container-id-5 div.sk-parallel-item:first-child::after {align-self: flex-end;width: 50%;}#sk-container-id-5 div.sk-parallel-item:last-child::after {align-self: flex-start;width: 50%;}#sk-container-id-5 div.sk-parallel-item:only-child::after {width: 0;}#sk-container-id-5 div.sk-dashed-wrapped {border: 1px dashed gray;margin: 0 0.4em 0.5em 0.4em;box-sizing: border-box;padding-bottom: 0.4em;background-color: white;}#sk-container-id-5 div.sk-label label {font-family: monospace;font-weight: bold;display: inline-block;line-height: 1.2em;}#sk-container-id-5 div.sk-label-container {text-align: center;}#sk-container-id-5 div.sk-container {/* jupyter's `normalize.less` sets `[hidden] { display: none; }` but bootstrap.min.css set `[hidden] { display: none !important; }` so we also need the `!important` here to be able to override the default hidden behavior on the sphinx rendered scikit-learn.org. See: https://github.com/scikit-learn/scikit-learn/issues/21755 */display: inline-block !important;position: relative;}#sk-container-id-5 div.sk-text-repr-fallback {display: none;}</style><div id=\"sk-container-id-5\" class=\"sk-top-container\"><div class=\"sk-text-repr-fallback\"><pre>RandomForestClassifier(random_state=42)</pre><b>In a Jupyter environment, please rerun this cell to show the HTML representation or trust the notebook. <br />On GitHub, the HTML representation is unable to render, please try loading this page with nbviewer.org.</b></div><div class=\"sk-container\" hidden><div class=\"sk-item\"><div class=\"sk-estimator sk-toggleable\"><input class=\"sk-toggleable__control sk-hidden--visually\" id=\"sk-estimator-id-5\" type=\"checkbox\" checked><label for=\"sk-estimator-id-5\" class=\"sk-toggleable__label sk-toggleable__label-arrow\">RandomForestClassifier</label><div class=\"sk-toggleable__content\"><pre>RandomForestClassifier(random_state=42)</pre></div></div></div></div></div>"
      ],
      "text/plain": [
       "RandomForestClassifier(random_state=42)"
      ]
     },
     "execution_count": 131,
     "metadata": {},
     "output_type": "execute_result"
    }
   ],
   "source": [
    "# rf.fit(feature_matrix, y_train)\n",
    "rf.fit(feature_matrix, train_data[\"Transported\"])"
   ]
  },
  {
   "cell_type": "code",
   "execution_count": 132,
   "id": "0b38840e-e4d4-4ceb-ba1f-3325e373c115",
   "metadata": {},
   "outputs": [],
   "source": [
    "rf_y_pred = rf.predict(val_feature_matrix)"
   ]
  },
  {
   "cell_type": "code",
   "execution_count": 133,
   "id": "5bd2bb27-ae08-4c7d-a818-525314de9032",
   "metadata": {},
   "outputs": [
    {
     "name": "stdout",
     "output_type": "stream",
     "text": [
      "              precision    recall  f1-score   support\n",
      "\n",
      "       False       0.98      0.95      0.96      1289\n",
      "        True       0.95      0.98      0.96      1319\n",
      "\n",
      "    accuracy                           0.96      2608\n",
      "   macro avg       0.96      0.96      0.96      2608\n",
      "weighted avg       0.96      0.96      0.96      2608\n",
      "\n"
     ]
    }
   ],
   "source": [
    "print(classification_report(y_val, rf_y_pred))"
   ]
  },
  {
   "cell_type": "code",
   "execution_count": 134,
   "id": "b1bdc30e-9110-4c4a-ac8f-b09a48220fca",
   "metadata": {},
   "outputs": [
    {
     "name": "stdout",
     "output_type": "stream",
     "text": [
      "0.9635736196319018\n"
     ]
    }
   ],
   "source": [
    "print(accuracy_score(y_val, rf_y_pred))"
   ]
  },
  {
   "cell_type": "code",
   "execution_count": 135,
   "id": "8b67279e-2107-4923-9336-4be4a24df748",
   "metadata": {},
   "outputs": [
    {
     "data": {
      "text/plain": [
       "<Axes: >"
      ]
     },
     "execution_count": 135,
     "metadata": {},
     "output_type": "execute_result"
    },
    {
     "data": {
      "image/png": "[encoded data removed]",
      "text/plain": [
       "<Figure size 640x480 with 1 Axes>"
      ]
     },
     "metadata": {},
     "output_type": "display_data"
    }
   ],
   "source": [
    "pd.Series(rf.feature_importances_, index=val_feature_matrix.columns).plot(kind=\"bar\")"
   ]
  },
  {
   "cell_type": "code",
   "execution_count": 143,
   "id": "9b3c8791-7bb3-4e66-92f7-8d49c3c4127e",
   "metadata": {},
   "outputs": [],
   "source": [
    "test_data = pd.read_csv(\"test.csv\")"
   ]
  },
  {
   "cell_type": "code",
   "execution_count": 144,
   "id": "6e3a5474-d125-486f-ad83-14073ffdc0ca",
   "metadata": {},
   "outputs": [],
   "source": [
    "pid_df = test_data[[\"PassengerId\"]]"
   ]
  },
  {
   "cell_type": "code",
   "execution_count": 145,
   "id": "b9053079-2565-4808-a687-63d3dc042e75",
   "metadata": {},
   "outputs": [],
   "source": [
    "test_data = preprocess(test_data)"
   ]
  },
  {
   "cell_type": "code",
   "execution_count": 146,
   "id": "bed78737-66db-4248-88bf-919b65e9bc7b",
   "metadata": {},
   "outputs": [],
   "source": [
    "test_data[\"CabinLocation\"] = pd.Categorical(test_data.CabinLocation, categories=fact_unique)"
   ]
  },
  {
   "cell_type": "code",
   "execution_count": 147,
   "id": "4a4107bc-7566-4931-b22f-9c1333f2d7a2",
   "metadata": {},
   "outputs": [],
   "source": [
    "test_feature_data = scaler.transform(test_data[[\"RoomService\", \"FoodCourt\", \"ShoppingMall\", \"Spa\", \"VRDeck\", \"Age\", \"TotalSpending\"]])\n",
    "test_feature_matrix = pd.DataFrame(test_feature_data, columns=scaler.get_feature_names_out())\n",
    "# test_feature_matrix = pd.concat([test_feature_matrix, test_data[[\"CryoSleep\", \"VIP\", \"HomePlanet\", \"Destination\", \"Deck\", \"Side\"]].reset_index().drop(columns=[\"index\"], axis=0)], axis=1)\n",
    "test_feature_matrix = pd.concat([test_feature_matrix, test_data[[\"CryoSleep\", \"VIP\", \"HomePlanet\", \"Destination\", \"Deck\", \"Side\", \"CabinLocation\", \"FamilyGroupSize\"]].reset_index().drop(columns=[\"index\"], axis=0)], axis=1)\n",
    "# deck_side_features_test = ohc.transform(test_feature_matrix[[\"HomePlanet\", \"Destination\", \"Deck\", \"Side\"]])\n",
    "deck_side_features_test = ohc.transform(test_feature_matrix[[\"HomePlanet\", \"Destination\", \"Deck\", \"Side\", \"CabinLocation\",\"FamilyGroupSize\"]])\n",
    "test_feature_matrix = pd.concat([test_feature_matrix, pd.DataFrame(deck_side_features_test, columns=ohc.get_feature_names_out())], axis=1)\n",
    "test_feature_matrix.drop(columns=[\"HomePlanet\", \"Destination\", \"Deck\", \"Side\", \"CabinLocation\",\"FamilyGroupSize\"], axis=1, inplace=True)\n"
   ]
  },
  {
   "cell_type": "code",
   "execution_count": 53,
   "id": "d225b62d-a944-450e-ab03-44b1ad1c0535",
   "metadata": {},
   "outputs": [],
   "source": [
    "rf_test_pred = rf.predict(test_feature_matrix)"
   ]
  },
  {
   "cell_type": "code",
   "execution_count": 54,
   "id": "0545e9bd-7a68-4051-ac74-39e20a60c8da",
   "metadata": {},
   "outputs": [],
   "source": [
    "output = pd.concat([pid_df, pd.DataFrame(rf_test_pred, columns=[\"Transported\"])], axis=1)"
   ]
  },
  {
   "cell_type": "code",
   "execution_count": 55,
   "id": "0b777903-88e8-4873-b719-bb7bd3499aef",
   "metadata": {},
   "outputs": [],
   "source": [
    "output.to_csv(\"output_full_rf.csv\", index=False)"
   ]
  },
  {
   "cell_type": "code",
   "execution_count": 56,
   "id": "7619bf9a-6f50-48b6-8ad6-9d8b03b16c31",
   "metadata": {},
   "outputs": [],
   "source": [
    "svm_test_pred = svm_model.predict(test_feature_matrix)"
   ]
  },
  {
   "cell_type": "code",
   "execution_count": 57,
   "id": "27487f8d-c2aa-4d3a-a056-7dab85582361",
   "metadata": {},
   "outputs": [],
   "source": [
    "output_svm = pd.concat([pid_df, pd.DataFrame(svm_test_pred, columns=[\"Transported\"])], axis=1)"
   ]
  },
  {
   "cell_type": "code",
   "execution_count": 58,
   "id": "325b32f7-1963-42e6-8f42-cfc84a4f0fb0",
   "metadata": {},
   "outputs": [],
   "source": [
    "output_svm.to_csv(\"output_full_svm.csv\", index=False)"
   ]
  },
  {
   "cell_type": "code",
   "execution_count": null,
   "id": "a61103b3-87b2-4ae2-89eb-40a941dab2db",
   "metadata": {},
   "outputs": [],
   "source": []
  },
  {
   "cell_type": "code",
   "execution_count": null,
   "id": "6ddd231c",
   "metadata": {},
   "outputs": [],
   "source": []
  },
  {
   "cell_type": "code",
   "execution_count": null,
   "id": "32de1f04",
   "metadata": {},
   "outputs": [],
   "source": []
  },
  {
   "cell_type": "code",
   "execution_count": null,
   "id": "bc62dc4e",
   "metadata": {},
   "outputs": [],
   "source": []
  },
  {
   "cell_type": "code",
   "execution_count": 148,
   "id": "3b533fcb",
   "metadata": {},
   "outputs": [
    {
     "name": "stdout",
     "output_type": "stream",
     "text": [
      "Accuracy: 0.90\n",
      "              precision    recall  f1-score   support\n",
      "\n",
      "       False       0.93      0.88      0.90      1289\n",
      "        True       0.88      0.93      0.91      1319\n",
      "\n",
      "    accuracy                           0.90      2608\n",
      "   macro avg       0.91      0.90      0.90      2608\n",
      "weighted avg       0.91      0.90      0.90      2608\n",
      "\n",
      "Feature Importances:\n",
      "HomePlanet_Earth: 0.208\n",
      "TotalSpending: 0.079\n",
      "Deck_E: 0.066\n",
      "HomePlanet_Europa: 0.056\n",
      "CabinLocation_G_P: 0.031\n",
      "FoodCourt: 0.030\n",
      "CryoSleep: 0.028\n",
      "CabinLocation_C_S: 0.025\n",
      "ShoppingMall: 0.025\n",
      "CabinLocation_B_P: 0.024\n",
      "CabinLocation_B_S: 0.023\n",
      "Spa: 0.023\n",
      "VRDeck: 0.020\n",
      "Deck_G: 0.017\n",
      "Side_P: 0.015\n",
      "RoomService: 0.015\n",
      "Destination_TRAPPIST-1e: 0.015\n",
      "CabinLocation_D_P: 0.015\n",
      "Deck_F: 0.014\n",
      "CabinLocation_E_S: 0.014\n",
      "CabinLocation_D_S: 0.014\n",
      "FamilyGroupSize_5: 0.014\n",
      "Deck_A: 0.014\n",
      "CabinLocation_F_P: 0.014\n",
      "Deck_C: 0.012\n",
      "VIP: 0.012\n",
      "Destination_PSO J318.5-22: 0.012\n",
      "Age: 0.012\n",
      "HomePlanet_Mars: 0.012\n",
      "CabinLocation_F_S: 0.011\n",
      "FamilyGroupSize_4: 0.011\n",
      "CabinLocation_E_P: 0.011\n",
      "CabinLocation_G_S: 0.011\n",
      "FamilyGroupSize_2: 0.011\n",
      "Destination_55 Cancri e: 0.010\n",
      "Deck_D: 0.010\n",
      "FamilyGroupSize_7: 0.010\n",
      "FamilyGroupSize_3: 0.010\n",
      "FamilyGroupSize_6: 0.009\n",
      "CabinLocation_C_P: 0.008\n",
      "FamilyGroupSize_1: 0.008\n",
      "FamilyGroupSize_8: 0.008\n",
      "CabinLocation_A_S: 0.006\n",
      "Deck_B: 0.006\n",
      "CabinLocation_A_P: 0.004\n",
      "Deck_T: 0.000\n",
      "Side_S: 0.000\n",
      "CabinLocation_T_P: 0.000\n",
      "CabinLocation_T_S: 0.000\n"
     ]
    }
   ],
   "source": [
    "import xgboost as xgb\n",
    "from sklearn.model_selection import train_test_split\n",
    "from sklearn.metrics import accuracy_score, classification_report\n",
    "\n",
    "xgb_clf = xgb.XGBClassifier(objective='binary:logistic', seed=42)\n",
    "\n",
    "# Train the classifier\n",
    "xgb_clf.fit(feature_matrix, train_data[\"Transported\"])\n",
    "\n",
    "# Predict the labels for the test set\n",
    "yx_pred = xgb_clf.predict(val_feature_matrix)\n",
    "\n",
    "# Calculate the accuracy\n",
    "accuracy = accuracy_score(y_val, yx_pred)\n",
    "print(f\"Accuracy: {accuracy:.2f}\")\n",
    "\n",
    "print(classification_report(y_val, yx_pred))\n",
    "\n",
    "\n",
    "# You can also get the feature importances\n",
    "importances = xgb_clf.feature_importances_\n",
    "# Map feature importances to the corresponding column names\n",
    "feature_importance_dict = dict(zip(feature_matrix.columns, importances))\n",
    "print(\"Feature Importances:\")\n",
    "for feature, importance in sorted(feature_importance_dict.items(), key=lambda item: item[1], reverse=True):\n",
    "    print(f\"{feature}: {importance:.3f}\")"
   ]
  },
  {
   "cell_type": "code",
   "execution_count": 149,
   "id": "e91d29fd",
   "metadata": {},
   "outputs": [
    {
     "name": "stdout",
     "output_type": "stream",
     "text": [
      "Defaulting to user installation because normal site-packages is not writeable\n",
      "Requirement already satisfied: xgboost in /Users/utkarshdabholkar/Library/Python/3.9/lib/python/site-packages (2.0.2)\n",
      "Requirement already satisfied: numpy in /Users/utkarshdabholkar/Library/Python/3.9/lib/python/site-packages (from xgboost) (1.24.3)\n",
      "Requirement already satisfied: scipy in /Users/utkarshdabholkar/Library/Python/3.9/lib/python/site-packages (from xgboost) (1.11.3)\n",
      "\n",
      "\u001b[1m[\u001b[0m\u001b[34;49mnotice\u001b[0m\u001b[1;39;49m]\u001b[0m\u001b[39;49m A new release of pip is available: \u001b[0m\u001b[31;49m23.2.1\u001b[0m\u001b[39;49m -> \u001b[0m\u001b[32;49m23.3.1\u001b[0m\n",
      "\u001b[1m[\u001b[0m\u001b[34;49mnotice\u001b[0m\u001b[1;39;49m]\u001b[0m\u001b[39;49m To update, run: \u001b[0m\u001b[32;49m/Library/Developer/CommandLineTools/usr/bin/python3 -m pip install --upgrade pip\u001b[0m\n"
     ]
    }
   ],
   "source": [
    "!pip3 install xgboost"
   ]
  },
  {
   "cell_type": "code",
   "execution_count": 150,
   "id": "341cfe22",
   "metadata": {},
   "outputs": [],
   "source": [
    "xgboost_pred = xgb_clf.predict(test_feature_matrix)"
   ]
  },
  {
   "cell_type": "code",
   "execution_count": 151,
   "id": "2b10354e",
   "metadata": {},
   "outputs": [],
   "source": [
    "output = pd.concat([pid_df, pd.DataFrame(xgboost_pred, columns=[\"Transported\"])], axis=1)"
   ]
  },
  {
   "cell_type": "code",
   "execution_count": 152,
   "id": "25037afa",
   "metadata": {},
   "outputs": [],
   "source": [
    "output['Transported'] = output['Transported'].astype(bool)"
   ]
  },
  {
   "cell_type": "code",
   "execution_count": 153,
   "id": "7281b0e9",
   "metadata": {},
   "outputs": [],
   "source": [
    "output.to_csv(\"output1_full_XG.csv\", index=False)"
   ]
  },
  {
   "cell_type": "code",
   "execution_count": null,
   "id": "347e9f9a",
   "metadata": {},
   "outputs": [],
   "source": []
  }
 ],
 "metadata": {
  "kernelspec": {
   "display_name": "Python 3 (ipykernel)",
   "language": "python",
   "name": "python3"
  },
  "language_info": {
   "codemirror_mode": {
    "name": "ipython",
    "version": 3
   },
   "file_extension": ".py",
   "mimetype": "text/x-python",
   "name": "python",
   "nbconvert_exporter": "python",
   "pygments_lexer": "ipython3",
   "version": "3.9.6"
  }
 },
 "nbformat": 4,
 "nbformat_minor": 5
}
