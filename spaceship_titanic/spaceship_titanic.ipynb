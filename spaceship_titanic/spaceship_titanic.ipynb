{
 "cells": [
  {
   "cell_type": "code",
   "execution_count": 137,
   "id": "6b1ff0d0-0407-4607-b9c2-9a9748910d64",
   "metadata": {},
   "outputs": [],
   "source": [
    "import pandas as pd\n",
    "import seaborn as sns"
   ]
  },
  {
   "cell_type": "code",
   "execution_count": 138,
   "id": "212bba76-4144-4d70-998f-c78e2969ca6a",
   "metadata": {},
   "outputs": [],
   "source": [
    "train_data = pd.read_csv('train.csv')"
   ]
  },
  {
   "cell_type": "markdown",
   "id": "dd8099b5-284d-4e59-96fa-2b19167b9201",
   "metadata": {},
   "source": [
    "### EDA"
   ]
  },
  {
   "cell_type": "code",
   "execution_count": 139,
   "id": "2ef65dfb-7471-4260-8b16-de05ee722430",
   "metadata": {},
   "outputs": [
    {
     "data": {
      "text/html": [
       "<div>\n",
       "<style scoped>\n",
       "    .dataframe tbody tr th:only-of-type {\n",
       "        vertical-align: middle;\n",
       "    }\n",
       "\n",
       "    .dataframe tbody tr th {\n",
       "        vertical-align: top;\n",
       "    }\n",
       "\n",
       "    .dataframe thead th {\n",
       "        text-align: right;\n",
       "    }\n",
       "</style>\n",
       "<table border=\"1\" class=\"dataframe\">\n",
       "  <thead>\n",
       "    <tr style=\"text-align: right;\">\n",
       "      <th></th>\n",
       "      <th>PassengerId</th>\n",
       "      <th>HomePlanet</th>\n",
       "      <th>CryoSleep</th>\n",
       "      <th>Cabin</th>\n",
       "      <th>Destination</th>\n",
       "      <th>Age</th>\n",
       "      <th>VIP</th>\n",
       "      <th>RoomService</th>\n",
       "      <th>FoodCourt</th>\n",
       "      <th>ShoppingMall</th>\n",
       "      <th>Spa</th>\n",
       "      <th>VRDeck</th>\n",
       "      <th>Name</th>\n",
       "      <th>Transported</th>\n",
       "    </tr>\n",
       "  </thead>\n",
       "  <tbody>\n",
       "    <tr>\n",
       "      <th>0</th>\n",
       "      <td>0001_01</td>\n",
       "      <td>Europa</td>\n",
       "      <td>False</td>\n",
       "      <td>B/0/P</td>\n",
       "      <td>TRAPPIST-1e</td>\n",
       "      <td>39.0</td>\n",
       "      <td>False</td>\n",
       "      <td>0.0</td>\n",
       "      <td>0.0</td>\n",
       "      <td>0.0</td>\n",
       "      <td>0.0</td>\n",
       "      <td>0.0</td>\n",
       "      <td>Maham Ofracculy</td>\n",
       "      <td>False</td>\n",
       "    </tr>\n",
       "    <tr>\n",
       "      <th>1</th>\n",
       "      <td>0002_01</td>\n",
       "      <td>Earth</td>\n",
       "      <td>False</td>\n",
       "      <td>F/0/S</td>\n",
       "      <td>TRAPPIST-1e</td>\n",
       "      <td>24.0</td>\n",
       "      <td>False</td>\n",
       "      <td>109.0</td>\n",
       "      <td>9.0</td>\n",
       "      <td>25.0</td>\n",
       "      <td>549.0</td>\n",
       "      <td>44.0</td>\n",
       "      <td>Juanna Vines</td>\n",
       "      <td>True</td>\n",
       "    </tr>\n",
       "    <tr>\n",
       "      <th>2</th>\n",
       "      <td>0003_01</td>\n",
       "      <td>Europa</td>\n",
       "      <td>False</td>\n",
       "      <td>A/0/S</td>\n",
       "      <td>TRAPPIST-1e</td>\n",
       "      <td>58.0</td>\n",
       "      <td>True</td>\n",
       "      <td>43.0</td>\n",
       "      <td>3576.0</td>\n",
       "      <td>0.0</td>\n",
       "      <td>6715.0</td>\n",
       "      <td>49.0</td>\n",
       "      <td>Altark Susent</td>\n",
       "      <td>False</td>\n",
       "    </tr>\n",
       "    <tr>\n",
       "      <th>3</th>\n",
       "      <td>0003_02</td>\n",
       "      <td>Europa</td>\n",
       "      <td>False</td>\n",
       "      <td>A/0/S</td>\n",
       "      <td>TRAPPIST-1e</td>\n",
       "      <td>33.0</td>\n",
       "      <td>False</td>\n",
       "      <td>0.0</td>\n",
       "      <td>1283.0</td>\n",
       "      <td>371.0</td>\n",
       "      <td>3329.0</td>\n",
       "      <td>193.0</td>\n",
       "      <td>Solam Susent</td>\n",
       "      <td>False</td>\n",
       "    </tr>\n",
       "    <tr>\n",
       "      <th>4</th>\n",
       "      <td>0004_01</td>\n",
       "      <td>Earth</td>\n",
       "      <td>False</td>\n",
       "      <td>F/1/S</td>\n",
       "      <td>TRAPPIST-1e</td>\n",
       "      <td>16.0</td>\n",
       "      <td>False</td>\n",
       "      <td>303.0</td>\n",
       "      <td>70.0</td>\n",
       "      <td>151.0</td>\n",
       "      <td>565.0</td>\n",
       "      <td>2.0</td>\n",
       "      <td>Willy Santantines</td>\n",
       "      <td>True</td>\n",
       "    </tr>\n",
       "  </tbody>\n",
       "</table>\n",
       "</div>"
      ],
      "text/plain": [
       "  PassengerId HomePlanet CryoSleep  Cabin  Destination   Age    VIP  \\\n",
       "0     0001_01     Europa     False  B/0/P  TRAPPIST-1e  39.0  False   \n",
       "1     0002_01      Earth     False  F/0/S  TRAPPIST-1e  24.0  False   \n",
       "2     0003_01     Europa     False  A/0/S  TRAPPIST-1e  58.0   True   \n",
       "3     0003_02     Europa     False  A/0/S  TRAPPIST-1e  33.0  False   \n",
       "4     0004_01      Earth     False  F/1/S  TRAPPIST-1e  16.0  False   \n",
       "\n",
       "   RoomService  FoodCourt  ShoppingMall     Spa  VRDeck               Name  \\\n",
       "0          0.0        0.0           0.0     0.0     0.0    Maham Ofracculy   \n",
       "1        109.0        9.0          25.0   549.0    44.0       Juanna Vines   \n",
       "2         43.0     3576.0           0.0  6715.0    49.0      Altark Susent   \n",
       "3          0.0     1283.0         371.0  3329.0   193.0       Solam Susent   \n",
       "4        303.0       70.0         151.0   565.0     2.0  Willy Santantines   \n",
       "\n",
       "   Transported  \n",
       "0        False  \n",
       "1         True  \n",
       "2        False  \n",
       "3        False  \n",
       "4         True  "
      ]
     },
     "execution_count": 139,
     "metadata": {},
     "output_type": "execute_result"
    }
   ],
   "source": [
    "train_data.head()"
   ]
  },
  {
   "cell_type": "code",
   "execution_count": 140,
   "id": "87fbc70e-aa67-4a64-b812-e2ba7b4fb66e",
   "metadata": {},
   "outputs": [
    {
     "data": {
      "text/plain": [
       "(8693, 14)"
      ]
     },
     "execution_count": 140,
     "metadata": {},
     "output_type": "execute_result"
    }
   ],
   "source": [
    "train_data.shape"
   ]
  },
  {
   "cell_type": "code",
   "execution_count": 141,
   "id": "696fded0-fe15-4a7d-adbd-e7a2c11d7d41",
   "metadata": {},
   "outputs": [
    {
     "data": {
      "text/plain": [
       "PassengerId      object\n",
       "HomePlanet       object\n",
       "CryoSleep        object\n",
       "Cabin            object\n",
       "Destination      object\n",
       "Age             float64\n",
       "VIP              object\n",
       "RoomService     float64\n",
       "FoodCourt       float64\n",
       "ShoppingMall    float64\n",
       "Spa             float64\n",
       "VRDeck          float64\n",
       "Name             object\n",
       "Transported        bool\n",
       "dtype: object"
      ]
     },
     "execution_count": 141,
     "metadata": {},
     "output_type": "execute_result"
    }
   ],
   "source": [
    "train_data.dtypes"
   ]
  },
  {
   "cell_type": "code",
   "execution_count": 142,
   "id": "7c5e4672-e21e-46c6-85f4-756c77ca80f1",
   "metadata": {},
   "outputs": [
    {
     "name": "stdout",
     "output_type": "stream",
     "text": [
      "<class 'pandas.core.frame.DataFrame'>\n",
      "RangeIndex: 8693 entries, 0 to 8692\n",
      "Data columns (total 14 columns):\n",
      " #   Column        Non-Null Count  Dtype  \n",
      "---  ------        --------------  -----  \n",
      " 0   PassengerId   8693 non-null   object \n",
      " 1   HomePlanet    8492 non-null   object \n",
      " 2   CryoSleep     8476 non-null   object \n",
      " 3   Cabin         8494 non-null   object \n",
      " 4   Destination   8511 non-null   object \n",
      " 5   Age           8514 non-null   float64\n",
      " 6   VIP           8490 non-null   object \n",
      " 7   RoomService   8512 non-null   float64\n",
      " 8   FoodCourt     8510 non-null   float64\n",
      " 9   ShoppingMall  8485 non-null   float64\n",
      " 10  Spa           8510 non-null   float64\n",
      " 11  VRDeck        8505 non-null   float64\n",
      " 12  Name          8493 non-null   object \n",
      " 13  Transported   8693 non-null   bool   \n",
      "dtypes: bool(1), float64(6), object(7)\n",
      "memory usage: 891.5+ KB\n"
     ]
    }
   ],
   "source": [
    "train_data.info()"
   ]
  },
  {
   "cell_type": "code",
   "execution_count": 143,
   "id": "40bdcec1-a813-464e-a079-f3f5a798342d",
   "metadata": {},
   "outputs": [
    {
     "data": {
      "text/html": [
       "<div>\n",
       "<style scoped>\n",
       "    .dataframe tbody tr th:only-of-type {\n",
       "        vertical-align: middle;\n",
       "    }\n",
       "\n",
       "    .dataframe tbody tr th {\n",
       "        vertical-align: top;\n",
       "    }\n",
       "\n",
       "    .dataframe thead th {\n",
       "        text-align: right;\n",
       "    }\n",
       "</style>\n",
       "<table border=\"1\" class=\"dataframe\">\n",
       "  <thead>\n",
       "    <tr style=\"text-align: right;\">\n",
       "      <th></th>\n",
       "      <th>Age</th>\n",
       "      <th>RoomService</th>\n",
       "      <th>FoodCourt</th>\n",
       "      <th>ShoppingMall</th>\n",
       "      <th>Spa</th>\n",
       "      <th>VRDeck</th>\n",
       "    </tr>\n",
       "  </thead>\n",
       "  <tbody>\n",
       "    <tr>\n",
       "      <th>count</th>\n",
       "      <td>8514.000000</td>\n",
       "      <td>8512.000000</td>\n",
       "      <td>8510.000000</td>\n",
       "      <td>8485.000000</td>\n",
       "      <td>8510.000000</td>\n",
       "      <td>8505.000000</td>\n",
       "    </tr>\n",
       "    <tr>\n",
       "      <th>mean</th>\n",
       "      <td>28.827930</td>\n",
       "      <td>224.687617</td>\n",
       "      <td>458.077203</td>\n",
       "      <td>173.729169</td>\n",
       "      <td>311.138778</td>\n",
       "      <td>304.854791</td>\n",
       "    </tr>\n",
       "    <tr>\n",
       "      <th>std</th>\n",
       "      <td>14.489021</td>\n",
       "      <td>666.717663</td>\n",
       "      <td>1611.489240</td>\n",
       "      <td>604.696458</td>\n",
       "      <td>1136.705535</td>\n",
       "      <td>1145.717189</td>\n",
       "    </tr>\n",
       "    <tr>\n",
       "      <th>min</th>\n",
       "      <td>0.000000</td>\n",
       "      <td>0.000000</td>\n",
       "      <td>0.000000</td>\n",
       "      <td>0.000000</td>\n",
       "      <td>0.000000</td>\n",
       "      <td>0.000000</td>\n",
       "    </tr>\n",
       "    <tr>\n",
       "      <th>25%</th>\n",
       "      <td>19.000000</td>\n",
       "      <td>0.000000</td>\n",
       "      <td>0.000000</td>\n",
       "      <td>0.000000</td>\n",
       "      <td>0.000000</td>\n",
       "      <td>0.000000</td>\n",
       "    </tr>\n",
       "    <tr>\n",
       "      <th>50%</th>\n",
       "      <td>27.000000</td>\n",
       "      <td>0.000000</td>\n",
       "      <td>0.000000</td>\n",
       "      <td>0.000000</td>\n",
       "      <td>0.000000</td>\n",
       "      <td>0.000000</td>\n",
       "    </tr>\n",
       "    <tr>\n",
       "      <th>75%</th>\n",
       "      <td>38.000000</td>\n",
       "      <td>47.000000</td>\n",
       "      <td>76.000000</td>\n",
       "      <td>27.000000</td>\n",
       "      <td>59.000000</td>\n",
       "      <td>46.000000</td>\n",
       "    </tr>\n",
       "    <tr>\n",
       "      <th>max</th>\n",
       "      <td>79.000000</td>\n",
       "      <td>14327.000000</td>\n",
       "      <td>29813.000000</td>\n",
       "      <td>23492.000000</td>\n",
       "      <td>22408.000000</td>\n",
       "      <td>24133.000000</td>\n",
       "    </tr>\n",
       "  </tbody>\n",
       "</table>\n",
       "</div>"
      ],
      "text/plain": [
       "               Age   RoomService     FoodCourt  ShoppingMall           Spa  \\\n",
       "count  8514.000000   8512.000000   8510.000000   8485.000000   8510.000000   \n",
       "mean     28.827930    224.687617    458.077203    173.729169    311.138778   \n",
       "std      14.489021    666.717663   1611.489240    604.696458   1136.705535   \n",
       "min       0.000000      0.000000      0.000000      0.000000      0.000000   \n",
       "25%      19.000000      0.000000      0.000000      0.000000      0.000000   \n",
       "50%      27.000000      0.000000      0.000000      0.000000      0.000000   \n",
       "75%      38.000000     47.000000     76.000000     27.000000     59.000000   \n",
       "max      79.000000  14327.000000  29813.000000  23492.000000  22408.000000   \n",
       "\n",
       "             VRDeck  \n",
       "count   8505.000000  \n",
       "mean     304.854791  \n",
       "std     1145.717189  \n",
       "min        0.000000  \n",
       "25%        0.000000  \n",
       "50%        0.000000  \n",
       "75%       46.000000  \n",
       "max    24133.000000  "
      ]
     },
     "execution_count": 143,
     "metadata": {},
     "output_type": "execute_result"
    }
   ],
   "source": [
    "train_data.describe()"
   ]
  },
  {
   "cell_type": "code",
   "execution_count": 144,
   "id": "c5deb4b1-8d99-403b-a981-e8e4d6b0331b",
   "metadata": {},
   "outputs": [
    {
     "data": {
      "text/plain": [
       "CryoSleep       2.496261\n",
       "ShoppingMall    2.392730\n",
       "VIP             2.335212\n",
       "HomePlanet      2.312205\n",
       "Name            2.300702\n",
       "Cabin           2.289198\n",
       "VRDeck          2.162660\n",
       "FoodCourt       2.105142\n",
       "Spa             2.105142\n",
       "Destination     2.093639\n",
       "RoomService     2.082135\n",
       "Age             2.059128\n",
       "PassengerId     0.000000\n",
       "Transported     0.000000\n",
       "dtype: float64"
      ]
     },
     "execution_count": 144,
     "metadata": {},
     "output_type": "execute_result"
    }
   ],
   "source": [
    "train_data.isna().sum().sort_values(ascending=False) / train_data.shape[0] * 100"
   ]
  },
  {
   "cell_type": "markdown",
   "id": "611a5c8f-3249-43d9-a4e9-d33a3aa538fa",
   "metadata": {},
   "source": [
    "### Pre-processing"
   ]
  },
  {
   "cell_type": "code",
   "execution_count": 145,
   "id": "ce79c3fa-f4af-4a9f-8076-7a25b9d6d750",
   "metadata": {},
   "outputs": [],
   "source": [
    "def preprocess(data):\n",
    "    data[[\"Deck\", \"Num\", \"Side\"]] = data.Cabin.str.split('/', expand=True)\n",
    "    data[\"Deck\"] = data.Deck.fillna(data[\"Deck\"].mode().values[0])\n",
    "    data.loc[data.Side.isna(), \"Side\"] = data[data.Side.isna()].apply(lambda x: data[data.Deck == x.Deck].Side.mode().values[0], axis=1)\n",
    "    data['CabinLocation'] = data['Deck'].astype(str) + '_' + data['Side']\n",
    "\n",
    "    data[\"Age\"] = data[\"Age\"].fillna(data.Age.mean())\n",
    "    data[\"Age\"] = data.Age.astype(int)\n",
    "    \n",
    "    data[\"RoomService\"] = data[\"RoomService\"].fillna(0)\n",
    "    data[\"FoodCourt\"] = data[\"FoodCourt\"].fillna(0)\n",
    "    data[\"ShoppingMall\"] = data[\"ShoppingMall\"].fillna(0)\n",
    "    data[\"Spa\"] = data[\"Spa\"].fillna(0)\n",
    "    data[\"VRDeck\"] = data[\"VRDeck\"].fillna(0)\n",
    "    \n",
    "    # data[\"TotalSpending\"] = data[\"RoomService\"] + data[\"FoodCourt\"] + data[\"ShoppingMall\"] + data[\"Spa\"] + data[\"VRDeck\"]\n",
    "    \n",
    "    data[\"CryoSleep\"] = data.CryoSleep.fillna(data.CryoSleep.mode().values[0])\n",
    "    data[\"CryoSleep\"] = data.CryoSleep.astype(int)\n",
    "    \n",
    "    data[\"VIP\"] = data.VIP.fillna(data.VIP.mode().values[0])\n",
    "    data[\"VIP\"] = data.VIP.astype(int)\n",
    "    \n",
    "    data[\"HomePlanet\"] = data.HomePlanet.fillna(data.HomePlanet.mode().values[0])\n",
    "    data[\"Destination\"] = data.Destination.fillna(data.Destination.mode().values[0])\n",
    "    \n",
    "    data.drop(columns=[\"Name\", \"Cabin\", \"Num\", \"PassengerId\"], axis=1, inplace=True)\n",
    "    \n",
    "    return data\n"
   ]
  },
  {
   "cell_type": "code",
   "execution_count": 146,
   "id": "49164b07-f9e6-4059-81e4-c14ef63801da",
   "metadata": {},
   "outputs": [],
   "source": [
    "train_data = preprocess(train_data)"
   ]
  },
  {
   "cell_type": "markdown",
   "id": "8f8e7ecb-b257-413b-ba19-b8a3290710c5",
   "metadata": {},
   "source": [
    "### Feature Engineering"
   ]
  },
  {
   "cell_type": "code",
   "execution_count": 147,
   "id": "8c44f2cf-4a17-4e52-9df4-91d8a03c95f4",
   "metadata": {},
   "outputs": [],
   "source": [
    "from sklearn.model_selection import train_test_split"
   ]
  },
  {
   "cell_type": "code",
   "execution_count": 148,
   "id": "0d036e68-c5db-4c14-9bc5-516c1037d827",
   "metadata": {},
   "outputs": [],
   "source": [
    "X_train, X_val, y_train, y_val = train_test_split(train_data.drop(columns=[\"Transported\"], axis=1), train_data[\"Transported\"], random_state=42, test_size=0.3)"
   ]
  },
  {
   "cell_type": "code",
   "execution_count": 149,
   "id": "cc49387d-f5d1-40c8-8b40-3d370bfdb29d",
   "metadata": {},
   "outputs": [],
   "source": [
    "X_train = train_data.drop(columns=[\"Transported\"], axis=1)"
   ]
  },
  {
   "cell_type": "code",
   "execution_count": 150,
   "id": "8246df16-104c-4aa1-8902-b87d237e2c0a",
   "metadata": {},
   "outputs": [],
   "source": [
    "from sklearn.preprocessing import StandardScaler"
   ]
  },
  {
   "cell_type": "code",
   "execution_count": 151,
   "id": "2c4acb13-2b3a-4730-a423-2f1b3984c91a",
   "metadata": {},
   "outputs": [],
   "source": [
    "scaler = StandardScaler()"
   ]
  },
  {
   "cell_type": "code",
   "execution_count": 152,
   "id": "c2c8ee08-d961-40c6-96c2-b8ac478c5993",
   "metadata": {},
   "outputs": [],
   "source": [
    "# feature_data = scaler.fit_transform(X_train[[\"RoomService\", \"FoodCourt\", \"ShoppingMall\", \"Spa\", \"VRDeck\", \"TotalSpending\", \"Age\"]])\n",
    "feature_data = scaler.fit_transform(X_train[[\"RoomService\", \"FoodCourt\", \"ShoppingMall\", \"Spa\", \"VRDeck\", \"Age\"]])"
   ]
  },
  {
   "cell_type": "code",
   "execution_count": 153,
   "id": "276acf01-b1d1-4a6e-9e1e-0b002ac10f00",
   "metadata": {},
   "outputs": [],
   "source": [
    "feature_matrix = pd.DataFrame(feature_data, columns=scaler.get_feature_names_out())"
   ]
  },
  {
   "cell_type": "code",
   "execution_count": 154,
   "id": "782736b0-8b09-4653-a900-22ec663f1626",
   "metadata": {},
   "outputs": [],
   "source": [
    "# val_feature_data = scaler.transform(X_val[[\"RoomService\", \"FoodCourt\", \"ShoppingMall\", \"Spa\", \"VRDeck\", \"TotalSpending\", \"Age\"]])\n",
    "val_feature_data = scaler.transform(X_val[[\"RoomService\", \"FoodCourt\", \"ShoppingMall\", \"Spa\", \"VRDeck\", \"Age\"]])"
   ]
  },
  {
   "cell_type": "code",
   "execution_count": 155,
   "id": "7f1115a2-1455-421a-9639-dfabd15e02e6",
   "metadata": {},
   "outputs": [],
   "source": [
    "val_feature_matrix = pd.DataFrame(val_feature_data, columns=scaler.get_feature_names_out())"
   ]
  },
  {
   "cell_type": "code",
   "execution_count": 156,
   "id": "19f8d280-5bb1-4bba-85b8-ea61f248bebf",
   "metadata": {},
   "outputs": [],
   "source": [
    "feature_matrix = pd.concat([feature_matrix, X_train[[\"CryoSleep\", \"VIP\", \"HomePlanet\", \"Destination\", \"Deck\", \"Side\", \"CabinLocation\"]].reset_index().drop(columns=[\"index\"], axis=0)], axis=1)\n",
    "# feature_matrix = pd.concat([feature_matrix, X_train[[\"CryoSleep\", \"VIP\", \"HomePlanet\", \"Destination\", \"Deck\", \"Side\"]].reset_index().drop(columns=[\"index\"], axis=0)], axis=1)"
   ]
  },
  {
   "cell_type": "code",
   "execution_count": 157,
   "id": "4eaf577a-1792-4b51-bafe-924b1ff70b02",
   "metadata": {},
   "outputs": [],
   "source": [
    "val_feature_matrix = pd.concat([val_feature_matrix, X_val[[\"CryoSleep\", \"VIP\", \"HomePlanet\", \"Destination\", \"Deck\", \"Side\", \"CabinLocation\"]].reset_index().drop(columns=[\"index\"], axis=0)], axis=1)\n",
    "# val_feature_matrix = pd.concat([val_feature_matrix, X_val[[\"CryoSleep\", \"VIP\", \"HomePlanet\", \"Destination\", \"Deck\", \"Side\"]].reset_index().drop(columns=[\"index\"], axis=0)], axis=1)"
   ]
  },
  {
   "cell_type": "code",
   "execution_count": 158,
   "id": "26c2ce1e-1e2d-4e0e-a668-b820a6ee95fb",
   "metadata": {},
   "outputs": [],
   "source": [
    "X_train['CabinLocation'], fact_unique = X_train.CabinLocation.factorize()"
   ]
  },
  {
   "cell_type": "code",
   "execution_count": 159,
   "id": "96862831-ffce-4060-a9d6-ee6ef669792a",
   "metadata": {},
   "outputs": [],
   "source": [
    "X_val['CabinLocation'] = pd.Categorical(X_val[\"CabinLocation\"], categories=fact_unique)"
   ]
  },
  {
   "cell_type": "code",
   "execution_count": 160,
   "id": "e197d6b8-d114-4fcb-99fa-c8f573833d59",
   "metadata": {},
   "outputs": [],
   "source": [
    "from sklearn.preprocessing import OneHotEncoder"
   ]
  },
  {
   "cell_type": "code",
   "execution_count": 161,
   "id": "a311fa4f-9082-4539-a42e-32f273c926c0",
   "metadata": {},
   "outputs": [],
   "source": [
    "ohc = OneHotEncoder(sparse=False, handle_unknown=\"ignore\")"
   ]
  },
  {
   "cell_type": "code",
   "execution_count": 162,
   "id": "a748c2eb-66c8-46c9-8065-11c28050f62e",
   "metadata": {},
   "outputs": [],
   "source": [
    "deck_side_features = ohc.fit_transform(feature_matrix[[\"HomePlanet\", \"Destination\", \"Deck\", \"Side\", \"CabinLocation\"]])\n",
    "# deck_side_features = ohc.fit_transform(feature_matrix[[\"HomePlanet\", \"Destination\", \"Deck\", \"Side\"]])"
   ]
  },
  {
   "cell_type": "code",
   "execution_count": 163,
   "id": "3f4525fd-f05c-4a12-8282-41abd2e5c696",
   "metadata": {},
   "outputs": [],
   "source": [
    "deck_side_features_val = ohc.transform(val_feature_matrix[[\"HomePlanet\", \"Destination\", \"Deck\", \"Side\", \"CabinLocation\"]])\n",
    "# deck_side_features_val = ohc.transform(val_feature_matrix[[\"HomePlanet\", \"Destination\", \"Deck\", \"Side\"]])"
   ]
  },
  {
   "cell_type": "code",
   "execution_count": 164,
   "id": "a7f76d98-65f3-4a10-b400-fad4554ecf84",
   "metadata": {},
   "outputs": [],
   "source": [
    "feature_matrix = pd.concat([feature_matrix, pd.DataFrame(deck_side_features, columns=ohc.get_feature_names_out())], axis=1)"
   ]
  },
  {
   "cell_type": "code",
   "execution_count": 165,
   "id": "81296cf7-a6bb-4a85-9f3e-67c68e9d2e19",
   "metadata": {},
   "outputs": [],
   "source": [
    "feature_matrix.drop(columns=[\"HomePlanet\", \"Destination\", \"Deck\", \"Side\", \"CabinLocation\"], axis=1, inplace=True)\n",
    "# feature_matrix.drop(columns=[\"HomePlanet\", \"Destination\", \"Deck\", \"Side\"], axis=1, inplace=True)"
   ]
  },
  {
   "cell_type": "code",
   "execution_count": 166,
   "id": "1e031254-3631-4f1c-b98d-f43b7dd5ebae",
   "metadata": {},
   "outputs": [],
   "source": [
    "val_feature_matrix = pd.concat([val_feature_matrix, pd.DataFrame(deck_side_features_val, columns=ohc.get_feature_names_out())], axis=1)"
   ]
  },
  {
   "cell_type": "code",
   "execution_count": 167,
   "id": "7e780a89-0bec-4659-8518-c4b94fe4aaaf",
   "metadata": {},
   "outputs": [],
   "source": [
    "val_feature_matrix.drop(columns=[\"HomePlanet\", \"Destination\", \"Deck\", \"Side\", \"CabinLocation\"], axis=1, inplace=True)\n",
    "# val_feature_matrix.drop(columns=[\"HomePlanet\", \"Destination\", \"Deck\", \"Side\"], axis=1, inplace=True)"
   ]
  },
  {
   "cell_type": "code",
   "execution_count": 183,
   "id": "8d83c1ef-12d0-4dfa-ba16-31e9f422eb57",
   "metadata": {},
   "outputs": [
    {
     "data": {
      "text/html": [
       "<div>\n",
       "<style scoped>\n",
       "    .dataframe tbody tr th:only-of-type {\n",
       "        vertical-align: middle;\n",
       "    }\n",
       "\n",
       "    .dataframe tbody tr th {\n",
       "        vertical-align: top;\n",
       "    }\n",
       "\n",
       "    .dataframe thead th {\n",
       "        text-align: right;\n",
       "    }\n",
       "</style>\n",
       "<table border=\"1\" class=\"dataframe\">\n",
       "  <thead>\n",
       "    <tr style=\"text-align: right;\">\n",
       "      <th></th>\n",
       "      <th>RoomService</th>\n",
       "      <th>FoodCourt</th>\n",
       "      <th>ShoppingMall</th>\n",
       "      <th>Spa</th>\n",
       "      <th>VRDeck</th>\n",
       "      <th>Age</th>\n",
       "      <th>CryoSleep</th>\n",
       "      <th>VIP</th>\n",
       "      <th>HomePlanet_Earth</th>\n",
       "      <th>HomePlanet_Europa</th>\n",
       "      <th>...</th>\n",
       "      <th>CabinLocation_D_P</th>\n",
       "      <th>CabinLocation_D_S</th>\n",
       "      <th>CabinLocation_E_P</th>\n",
       "      <th>CabinLocation_E_S</th>\n",
       "      <th>CabinLocation_F_P</th>\n",
       "      <th>CabinLocation_F_S</th>\n",
       "      <th>CabinLocation_G_P</th>\n",
       "      <th>CabinLocation_G_S</th>\n",
       "      <th>CabinLocation_T_P</th>\n",
       "      <th>CabinLocation_T_S</th>\n",
       "    </tr>\n",
       "  </thead>\n",
       "  <tbody>\n",
       "    <tr>\n",
       "      <th>0</th>\n",
       "      <td>-0.333105</td>\n",
       "      <td>-0.281027</td>\n",
       "      <td>-0.283579</td>\n",
       "      <td>-0.270626</td>\n",
       "      <td>-0.263003</td>\n",
       "      <td>0.710602</td>\n",
       "      <td>0</td>\n",
       "      <td>0</td>\n",
       "      <td>0.0</td>\n",
       "      <td>1.0</td>\n",
       "      <td>...</td>\n",
       "      <td>0.0</td>\n",
       "      <td>0.0</td>\n",
       "      <td>0.0</td>\n",
       "      <td>0.0</td>\n",
       "      <td>0.0</td>\n",
       "      <td>0.0</td>\n",
       "      <td>0.0</td>\n",
       "      <td>0.0</td>\n",
       "      <td>0.0</td>\n",
       "      <td>0.0</td>\n",
       "    </tr>\n",
       "    <tr>\n",
       "      <th>1</th>\n",
       "      <td>-0.168073</td>\n",
       "      <td>-0.275387</td>\n",
       "      <td>-0.241771</td>\n",
       "      <td>0.217158</td>\n",
       "      <td>-0.224205</td>\n",
       "      <td>-0.335517</td>\n",
       "      <td>0</td>\n",
       "      <td>0</td>\n",
       "      <td>1.0</td>\n",
       "      <td>0.0</td>\n",
       "      <td>...</td>\n",
       "      <td>0.0</td>\n",
       "      <td>0.0</td>\n",
       "      <td>0.0</td>\n",
       "      <td>0.0</td>\n",
       "      <td>0.0</td>\n",
       "      <td>1.0</td>\n",
       "      <td>0.0</td>\n",
       "      <td>0.0</td>\n",
       "      <td>0.0</td>\n",
       "      <td>0.0</td>\n",
       "    </tr>\n",
       "    <tr>\n",
       "      <th>2</th>\n",
       "      <td>-0.268001</td>\n",
       "      <td>1.959998</td>\n",
       "      <td>-0.283579</td>\n",
       "      <td>5.695623</td>\n",
       "      <td>-0.219796</td>\n",
       "      <td>2.035686</td>\n",
       "      <td>0</td>\n",
       "      <td>1</td>\n",
       "      <td>0.0</td>\n",
       "      <td>1.0</td>\n",
       "      <td>...</td>\n",
       "      <td>0.0</td>\n",
       "      <td>0.0</td>\n",
       "      <td>0.0</td>\n",
       "      <td>0.0</td>\n",
       "      <td>0.0</td>\n",
       "      <td>0.0</td>\n",
       "      <td>0.0</td>\n",
       "      <td>0.0</td>\n",
       "      <td>0.0</td>\n",
       "      <td>0.0</td>\n",
       "    </tr>\n",
       "    <tr>\n",
       "      <th>3</th>\n",
       "      <td>-0.333105</td>\n",
       "      <td>0.523010</td>\n",
       "      <td>0.336851</td>\n",
       "      <td>2.687176</td>\n",
       "      <td>-0.092818</td>\n",
       "      <td>0.292154</td>\n",
       "      <td>0</td>\n",
       "      <td>0</td>\n",
       "      <td>0.0</td>\n",
       "      <td>1.0</td>\n",
       "      <td>...</td>\n",
       "      <td>0.0</td>\n",
       "      <td>0.0</td>\n",
       "      <td>0.0</td>\n",
       "      <td>0.0</td>\n",
       "      <td>0.0</td>\n",
       "      <td>0.0</td>\n",
       "      <td>0.0</td>\n",
       "      <td>0.0</td>\n",
       "      <td>0.0</td>\n",
       "      <td>0.0</td>\n",
       "    </tr>\n",
       "    <tr>\n",
       "      <th>4</th>\n",
       "      <td>0.125652</td>\n",
       "      <td>-0.237159</td>\n",
       "      <td>-0.031059</td>\n",
       "      <td>0.231374</td>\n",
       "      <td>-0.261240</td>\n",
       "      <td>-0.893447</td>\n",
       "      <td>0</td>\n",
       "      <td>0</td>\n",
       "      <td>1.0</td>\n",
       "      <td>0.0</td>\n",
       "      <td>...</td>\n",
       "      <td>0.0</td>\n",
       "      <td>0.0</td>\n",
       "      <td>0.0</td>\n",
       "      <td>0.0</td>\n",
       "      <td>0.0</td>\n",
       "      <td>1.0</td>\n",
       "      <td>0.0</td>\n",
       "      <td>0.0</td>\n",
       "      <td>0.0</td>\n",
       "      <td>0.0</td>\n",
       "    </tr>\n",
       "    <tr>\n",
       "      <th>...</th>\n",
       "      <td>...</td>\n",
       "      <td>...</td>\n",
       "      <td>...</td>\n",
       "      <td>...</td>\n",
       "      <td>...</td>\n",
       "      <td>...</td>\n",
       "      <td>...</td>\n",
       "      <td>...</td>\n",
       "      <td>...</td>\n",
       "      <td>...</td>\n",
       "      <td>...</td>\n",
       "      <td>...</td>\n",
       "      <td>...</td>\n",
       "      <td>...</td>\n",
       "      <td>...</td>\n",
       "      <td>...</td>\n",
       "      <td>...</td>\n",
       "      <td>...</td>\n",
       "      <td>...</td>\n",
       "      <td>...</td>\n",
       "      <td>...</td>\n",
       "    </tr>\n",
       "    <tr>\n",
       "      <th>8688</th>\n",
       "      <td>-0.333105</td>\n",
       "      <td>3.992336</td>\n",
       "      <td>-0.283579</td>\n",
       "      <td>1.189173</td>\n",
       "      <td>-0.197751</td>\n",
       "      <td>0.850085</td>\n",
       "      <td>0</td>\n",
       "      <td>1</td>\n",
       "      <td>0.0</td>\n",
       "      <td>1.0</td>\n",
       "      <td>...</td>\n",
       "      <td>0.0</td>\n",
       "      <td>0.0</td>\n",
       "      <td>0.0</td>\n",
       "      <td>0.0</td>\n",
       "      <td>0.0</td>\n",
       "      <td>0.0</td>\n",
       "      <td>0.0</td>\n",
       "      <td>0.0</td>\n",
       "      <td>0.0</td>\n",
       "      <td>0.0</td>\n",
       "    </tr>\n",
       "    <tr>\n",
       "      <th>8689</th>\n",
       "      <td>-0.333105</td>\n",
       "      <td>-0.281027</td>\n",
       "      <td>-0.283579</td>\n",
       "      <td>-0.270626</td>\n",
       "      <td>-0.263003</td>\n",
       "      <td>-0.753965</td>\n",
       "      <td>1</td>\n",
       "      <td>0</td>\n",
       "      <td>1.0</td>\n",
       "      <td>0.0</td>\n",
       "      <td>...</td>\n",
       "      <td>0.0</td>\n",
       "      <td>0.0</td>\n",
       "      <td>0.0</td>\n",
       "      <td>0.0</td>\n",
       "      <td>0.0</td>\n",
       "      <td>0.0</td>\n",
       "      <td>0.0</td>\n",
       "      <td>1.0</td>\n",
       "      <td>0.0</td>\n",
       "      <td>0.0</td>\n",
       "    </tr>\n",
       "    <tr>\n",
       "      <th>8690</th>\n",
       "      <td>-0.333105</td>\n",
       "      <td>-0.281027</td>\n",
       "      <td>2.846999</td>\n",
       "      <td>-0.269737</td>\n",
       "      <td>-0.263003</td>\n",
       "      <td>-0.196035</td>\n",
       "      <td>0</td>\n",
       "      <td>0</td>\n",
       "      <td>1.0</td>\n",
       "      <td>0.0</td>\n",
       "      <td>...</td>\n",
       "      <td>0.0</td>\n",
       "      <td>0.0</td>\n",
       "      <td>0.0</td>\n",
       "      <td>0.0</td>\n",
       "      <td>0.0</td>\n",
       "      <td>0.0</td>\n",
       "      <td>0.0</td>\n",
       "      <td>1.0</td>\n",
       "      <td>0.0</td>\n",
       "      <td>0.0</td>\n",
       "    </tr>\n",
       "    <tr>\n",
       "      <th>8691</th>\n",
       "      <td>-0.333105</td>\n",
       "      <td>0.376365</td>\n",
       "      <td>-0.283579</td>\n",
       "      <td>0.043013</td>\n",
       "      <td>2.589576</td>\n",
       "      <td>0.222413</td>\n",
       "      <td>0</td>\n",
       "      <td>0</td>\n",
       "      <td>0.0</td>\n",
       "      <td>1.0</td>\n",
       "      <td>...</td>\n",
       "      <td>0.0</td>\n",
       "      <td>0.0</td>\n",
       "      <td>0.0</td>\n",
       "      <td>1.0</td>\n",
       "      <td>0.0</td>\n",
       "      <td>0.0</td>\n",
       "      <td>0.0</td>\n",
       "      <td>0.0</td>\n",
       "      <td>0.0</td>\n",
       "      <td>0.0</td>\n",
       "    </tr>\n",
       "    <tr>\n",
       "      <th>8692</th>\n",
       "      <td>-0.142335</td>\n",
       "      <td>2.656871</td>\n",
       "      <td>-0.283579</td>\n",
       "      <td>-0.270626</td>\n",
       "      <td>-0.252422</td>\n",
       "      <td>1.059308</td>\n",
       "      <td>0</td>\n",
       "      <td>0</td>\n",
       "      <td>0.0</td>\n",
       "      <td>1.0</td>\n",
       "      <td>...</td>\n",
       "      <td>0.0</td>\n",
       "      <td>0.0</td>\n",
       "      <td>0.0</td>\n",
       "      <td>1.0</td>\n",
       "      <td>0.0</td>\n",
       "      <td>0.0</td>\n",
       "      <td>0.0</td>\n",
       "      <td>0.0</td>\n",
       "      <td>0.0</td>\n",
       "      <td>0.0</td>\n",
       "    </tr>\n",
       "  </tbody>\n",
       "</table>\n",
       "<p>8693 rows × 40 columns</p>\n",
       "</div>"
      ],
      "text/plain": [
       "      RoomService  FoodCourt  ShoppingMall       Spa    VRDeck       Age  \\\n",
       "0       -0.333105  -0.281027     -0.283579 -0.270626 -0.263003  0.710602   \n",
       "1       -0.168073  -0.275387     -0.241771  0.217158 -0.224205 -0.335517   \n",
       "2       -0.268001   1.959998     -0.283579  5.695623 -0.219796  2.035686   \n",
       "3       -0.333105   0.523010      0.336851  2.687176 -0.092818  0.292154   \n",
       "4        0.125652  -0.237159     -0.031059  0.231374 -0.261240 -0.893447   \n",
       "...           ...        ...           ...       ...       ...       ...   \n",
       "8688    -0.333105   3.992336     -0.283579  1.189173 -0.197751  0.850085   \n",
       "8689    -0.333105  -0.281027     -0.283579 -0.270626 -0.263003 -0.753965   \n",
       "8690    -0.333105  -0.281027      2.846999 -0.269737 -0.263003 -0.196035   \n",
       "8691    -0.333105   0.376365     -0.283579  0.043013  2.589576  0.222413   \n",
       "8692    -0.142335   2.656871     -0.283579 -0.270626 -0.252422  1.059308   \n",
       "\n",
       "      CryoSleep  VIP  HomePlanet_Earth  HomePlanet_Europa  ...  \\\n",
       "0             0    0               0.0                1.0  ...   \n",
       "1             0    0               1.0                0.0  ...   \n",
       "2             0    1               0.0                1.0  ...   \n",
       "3             0    0               0.0                1.0  ...   \n",
       "4             0    0               1.0                0.0  ...   \n",
       "...         ...  ...               ...                ...  ...   \n",
       "8688          0    1               0.0                1.0  ...   \n",
       "8689          1    0               1.0                0.0  ...   \n",
       "8690          0    0               1.0                0.0  ...   \n",
       "8691          0    0               0.0                1.0  ...   \n",
       "8692          0    0               0.0                1.0  ...   \n",
       "\n",
       "      CabinLocation_D_P  CabinLocation_D_S  CabinLocation_E_P  \\\n",
       "0                   0.0                0.0                0.0   \n",
       "1                   0.0                0.0                0.0   \n",
       "2                   0.0                0.0                0.0   \n",
       "3                   0.0                0.0                0.0   \n",
       "4                   0.0                0.0                0.0   \n",
       "...                 ...                ...                ...   \n",
       "8688                0.0                0.0                0.0   \n",
       "8689                0.0                0.0                0.0   \n",
       "8690                0.0                0.0                0.0   \n",
       "8691                0.0                0.0                0.0   \n",
       "8692                0.0                0.0                0.0   \n",
       "\n",
       "      CabinLocation_E_S  CabinLocation_F_P  CabinLocation_F_S  \\\n",
       "0                   0.0                0.0                0.0   \n",
       "1                   0.0                0.0                1.0   \n",
       "2                   0.0                0.0                0.0   \n",
       "3                   0.0                0.0                0.0   \n",
       "4                   0.0                0.0                1.0   \n",
       "...                 ...                ...                ...   \n",
       "8688                0.0                0.0                0.0   \n",
       "8689                0.0                0.0                0.0   \n",
       "8690                0.0                0.0                0.0   \n",
       "8691                1.0                0.0                0.0   \n",
       "8692                1.0                0.0                0.0   \n",
       "\n",
       "      CabinLocation_G_P  CabinLocation_G_S  CabinLocation_T_P  \\\n",
       "0                   0.0                0.0                0.0   \n",
       "1                   0.0                0.0                0.0   \n",
       "2                   0.0                0.0                0.0   \n",
       "3                   0.0                0.0                0.0   \n",
       "4                   0.0                0.0                0.0   \n",
       "...                 ...                ...                ...   \n",
       "8688                0.0                0.0                0.0   \n",
       "8689                0.0                1.0                0.0   \n",
       "8690                0.0                1.0                0.0   \n",
       "8691                0.0                0.0                0.0   \n",
       "8692                0.0                0.0                0.0   \n",
       "\n",
       "      CabinLocation_T_S  \n",
       "0                   0.0  \n",
       "1                   0.0  \n",
       "2                   0.0  \n",
       "3                   0.0  \n",
       "4                   0.0  \n",
       "...                 ...  \n",
       "8688                0.0  \n",
       "8689                0.0  \n",
       "8690                0.0  \n",
       "8691                0.0  \n",
       "8692                0.0  \n",
       "\n",
       "[8693 rows x 40 columns]"
      ]
     },
     "execution_count": 183,
     "metadata": {},
     "output_type": "execute_result"
    }
   ],
   "source": [
    "feature_matrix"
   ]
  },
  {
   "cell_type": "markdown",
   "id": "633407fb-9457-4388-b621-8ec6571e2bf6",
   "metadata": {},
   "source": [
    "### Model Training"
   ]
  },
  {
   "cell_type": "code",
   "execution_count": 168,
   "id": "3f59bf96-d923-406e-86c2-ac19ed658f1f",
   "metadata": {},
   "outputs": [],
   "source": [
    "from sklearn.svm import SVC"
   ]
  },
  {
   "cell_type": "code",
   "execution_count": 169,
   "id": "e9ebe458-1f6c-44a3-9335-884f49468467",
   "metadata": {},
   "outputs": [],
   "source": [
    "svm_model = SVC(kernel=\"linear\")"
   ]
  },
  {
   "cell_type": "code",
   "execution_count": 170,
   "id": "9e79f17d-51d2-4fe6-bcdf-aba510bbb161",
   "metadata": {},
   "outputs": [
    {
     "data": {
      "text/html": [
       "<style>#sk-container-id-7 {color: black;background-color: white;}#sk-container-id-7 pre{padding: 0;}#sk-container-id-7 div.sk-toggleable {background-color: white;}#sk-container-id-7 label.sk-toggleable__label {cursor: pointer;display: block;width: 100%;margin-bottom: 0;padding: 0.3em;box-sizing: border-box;text-align: center;}#sk-container-id-7 label.sk-toggleable__label-arrow:before {content: \"▸\";float: left;margin-right: 0.25em;color: #696969;}#sk-container-id-7 label.sk-toggleable__label-arrow:hover:before {color: black;}#sk-container-id-7 div.sk-estimator:hover label.sk-toggleable__label-arrow:before {color: black;}#sk-container-id-7 div.sk-toggleable__content {max-height: 0;max-width: 0;overflow: hidden;text-align: left;background-color: #f0f8ff;}#sk-container-id-7 div.sk-toggleable__content pre {margin: 0.2em;color: black;border-radius: 0.25em;background-color: #f0f8ff;}#sk-container-id-7 input.sk-toggleable__control:checked~div.sk-toggleable__content {max-height: 200px;max-width: 100%;overflow: auto;}#sk-container-id-7 input.sk-toggleable__control:checked~label.sk-toggleable__label-arrow:before {content: \"▾\";}#sk-container-id-7 div.sk-estimator input.sk-toggleable__control:checked~label.sk-toggleable__label {background-color: #d4ebff;}#sk-container-id-7 div.sk-label input.sk-toggleable__control:checked~label.sk-toggleable__label {background-color: #d4ebff;}#sk-container-id-7 input.sk-hidden--visually {border: 0;clip: rect(1px 1px 1px 1px);clip: rect(1px, 1px, 1px, 1px);height: 1px;margin: -1px;overflow: hidden;padding: 0;position: absolute;width: 1px;}#sk-container-id-7 div.sk-estimator {font-family: monospace;background-color: #f0f8ff;border: 1px dotted black;border-radius: 0.25em;box-sizing: border-box;margin-bottom: 0.5em;}#sk-container-id-7 div.sk-estimator:hover {background-color: #d4ebff;}#sk-container-id-7 div.sk-parallel-item::after {content: \"\";width: 100%;border-bottom: 1px solid gray;flex-grow: 1;}#sk-container-id-7 div.sk-label:hover label.sk-toggleable__label {background-color: #d4ebff;}#sk-container-id-7 div.sk-serial::before {content: \"\";position: absolute;border-left: 1px solid gray;box-sizing: border-box;top: 0;bottom: 0;left: 50%;z-index: 0;}#sk-container-id-7 div.sk-serial {display: flex;flex-direction: column;align-items: center;background-color: white;padding-right: 0.2em;padding-left: 0.2em;position: relative;}#sk-container-id-7 div.sk-item {position: relative;z-index: 1;}#sk-container-id-7 div.sk-parallel {display: flex;align-items: stretch;justify-content: center;background-color: white;position: relative;}#sk-container-id-7 div.sk-item::before, #sk-container-id-7 div.sk-parallel-item::before {content: \"\";position: absolute;border-left: 1px solid gray;box-sizing: border-box;top: 0;bottom: 0;left: 50%;z-index: -1;}#sk-container-id-7 div.sk-parallel-item {display: flex;flex-direction: column;z-index: 1;position: relative;background-color: white;}#sk-container-id-7 div.sk-parallel-item:first-child::after {align-self: flex-end;width: 50%;}#sk-container-id-7 div.sk-parallel-item:last-child::after {align-self: flex-start;width: 50%;}#sk-container-id-7 div.sk-parallel-item:only-child::after {width: 0;}#sk-container-id-7 div.sk-dashed-wrapped {border: 1px dashed gray;margin: 0 0.4em 0.5em 0.4em;box-sizing: border-box;padding-bottom: 0.4em;background-color: white;}#sk-container-id-7 div.sk-label label {font-family: monospace;font-weight: bold;display: inline-block;line-height: 1.2em;}#sk-container-id-7 div.sk-label-container {text-align: center;}#sk-container-id-7 div.sk-container {/* jupyter's `normalize.less` sets `[hidden] { display: none; }` but bootstrap.min.css set `[hidden] { display: none !important; }` so we also need the `!important` here to be able to override the default hidden behavior on the sphinx rendered scikit-learn.org. See: https://github.com/scikit-learn/scikit-learn/issues/21755 */display: inline-block !important;position: relative;}#sk-container-id-7 div.sk-text-repr-fallback {display: none;}</style><div id=\"sk-container-id-7\" class=\"sk-top-container\"><div class=\"sk-text-repr-fallback\"><pre>SVC(kernel=&#x27;linear&#x27;)</pre><b>In a Jupyter environment, please rerun this cell to show the HTML representation or trust the notebook. <br />On GitHub, the HTML representation is unable to render, please try loading this page with nbviewer.org.</b></div><div class=\"sk-container\" hidden><div class=\"sk-item\"><div class=\"sk-estimator sk-toggleable\"><input class=\"sk-toggleable__control sk-hidden--visually\" id=\"sk-estimator-id-7\" type=\"checkbox\" checked><label for=\"sk-estimator-id-7\" class=\"sk-toggleable__label sk-toggleable__label-arrow\">SVC</label><div class=\"sk-toggleable__content\"><pre>SVC(kernel=&#x27;linear&#x27;)</pre></div></div></div></div></div>"
      ],
      "text/plain": [
       "SVC(kernel='linear')"
      ]
     },
     "execution_count": 170,
     "metadata": {},
     "output_type": "execute_result"
    }
   ],
   "source": [
    "# svm_model.fit(feature_matrix, y_train)\n",
    "svm_model.fit(feature_matrix, train_data[\"Transported\"])"
   ]
  },
  {
   "cell_type": "code",
   "execution_count": 171,
   "id": "f212fd9c-ee94-4a31-a89b-d7b262ac681e",
   "metadata": {},
   "outputs": [],
   "source": [
    "y_pred = svm_model.predict(val_feature_matrix)"
   ]
  },
  {
   "cell_type": "code",
   "execution_count": 172,
   "id": "840ee3ad-564c-4d71-9f71-000f9ea5bd53",
   "metadata": {},
   "outputs": [],
   "source": [
    "from sklearn.metrics import classification_report, accuracy_score"
   ]
  },
  {
   "cell_type": "code",
   "execution_count": 173,
   "id": "6b3fde69-c3c0-40da-b751-7ab0aedec14f",
   "metadata": {},
   "outputs": [
    {
     "name": "stdout",
     "output_type": "stream",
     "text": [
      "              precision    recall  f1-score   support\n",
      "\n",
      "       False       0.81      0.75      0.78      1289\n",
      "        True       0.77      0.83      0.80      1319\n",
      "\n",
      "    accuracy                           0.79      2608\n",
      "   macro avg       0.79      0.79      0.79      2608\n",
      "weighted avg       0.79      0.79      0.79      2608\n",
      "\n"
     ]
    }
   ],
   "source": [
    "print(classification_report(y_val, y_pred))"
   ]
  },
  {
   "cell_type": "code",
   "execution_count": 174,
   "id": "b7be676b-48e3-4feb-851f-c2677675a8e2",
   "metadata": {},
   "outputs": [
    {
     "name": "stdout",
     "output_type": "stream",
     "text": [
      "0.7883435582822086\n"
     ]
    }
   ],
   "source": [
    "print(accuracy_score(y_val, y_pred))"
   ]
  },
  {
   "cell_type": "markdown",
   "id": "c81016dd-1258-4c73-b594-e9695c948c65",
   "metadata": {},
   "source": [
    "### Random Forest"
   ]
  },
  {
   "cell_type": "code",
   "execution_count": 83,
   "id": "f39de80d-04c0-4cfd-beab-6f2bba0a109b",
   "metadata": {},
   "outputs": [],
   "source": [
    "from sklearn.ensemble import RandomForestClassifier"
   ]
  },
  {
   "cell_type": "code",
   "execution_count": 118,
   "id": "48cefe4e-98ea-4d86-86c3-45043d66e918",
   "metadata": {},
   "outputs": [],
   "source": [
    "rf = RandomForestClassifier(n_estimators=500, random_state=42)"
   ]
  },
  {
   "cell_type": "code",
   "execution_count": 119,
   "id": "96f8e510-d847-4ae5-94e8-c2adf004861f",
   "metadata": {},
   "outputs": [
    {
     "data": {
      "text/html": [
       "<style>#sk-container-id-6 {color: black;background-color: white;}#sk-container-id-6 pre{padding: 0;}#sk-container-id-6 div.sk-toggleable {background-color: white;}#sk-container-id-6 label.sk-toggleable__label {cursor: pointer;display: block;width: 100%;margin-bottom: 0;padding: 0.3em;box-sizing: border-box;text-align: center;}#sk-container-id-6 label.sk-toggleable__label-arrow:before {content: \"▸\";float: left;margin-right: 0.25em;color: #696969;}#sk-container-id-6 label.sk-toggleable__label-arrow:hover:before {color: black;}#sk-container-id-6 div.sk-estimator:hover label.sk-toggleable__label-arrow:before {color: black;}#sk-container-id-6 div.sk-toggleable__content {max-height: 0;max-width: 0;overflow: hidden;text-align: left;background-color: #f0f8ff;}#sk-container-id-6 div.sk-toggleable__content pre {margin: 0.2em;color: black;border-radius: 0.25em;background-color: #f0f8ff;}#sk-container-id-6 input.sk-toggleable__control:checked~div.sk-toggleable__content {max-height: 200px;max-width: 100%;overflow: auto;}#sk-container-id-6 input.sk-toggleable__control:checked~label.sk-toggleable__label-arrow:before {content: \"▾\";}#sk-container-id-6 div.sk-estimator input.sk-toggleable__control:checked~label.sk-toggleable__label {background-color: #d4ebff;}#sk-container-id-6 div.sk-label input.sk-toggleable__control:checked~label.sk-toggleable__label {background-color: #d4ebff;}#sk-container-id-6 input.sk-hidden--visually {border: 0;clip: rect(1px 1px 1px 1px);clip: rect(1px, 1px, 1px, 1px);height: 1px;margin: -1px;overflow: hidden;padding: 0;position: absolute;width: 1px;}#sk-container-id-6 div.sk-estimator {font-family: monospace;background-color: #f0f8ff;border: 1px dotted black;border-radius: 0.25em;box-sizing: border-box;margin-bottom: 0.5em;}#sk-container-id-6 div.sk-estimator:hover {background-color: #d4ebff;}#sk-container-id-6 div.sk-parallel-item::after {content: \"\";width: 100%;border-bottom: 1px solid gray;flex-grow: 1;}#sk-container-id-6 div.sk-label:hover label.sk-toggleable__label {background-color: #d4ebff;}#sk-container-id-6 div.sk-serial::before {content: \"\";position: absolute;border-left: 1px solid gray;box-sizing: border-box;top: 0;bottom: 0;left: 50%;z-index: 0;}#sk-container-id-6 div.sk-serial {display: flex;flex-direction: column;align-items: center;background-color: white;padding-right: 0.2em;padding-left: 0.2em;position: relative;}#sk-container-id-6 div.sk-item {position: relative;z-index: 1;}#sk-container-id-6 div.sk-parallel {display: flex;align-items: stretch;justify-content: center;background-color: white;position: relative;}#sk-container-id-6 div.sk-item::before, #sk-container-id-6 div.sk-parallel-item::before {content: \"\";position: absolute;border-left: 1px solid gray;box-sizing: border-box;top: 0;bottom: 0;left: 50%;z-index: -1;}#sk-container-id-6 div.sk-parallel-item {display: flex;flex-direction: column;z-index: 1;position: relative;background-color: white;}#sk-container-id-6 div.sk-parallel-item:first-child::after {align-self: flex-end;width: 50%;}#sk-container-id-6 div.sk-parallel-item:last-child::after {align-self: flex-start;width: 50%;}#sk-container-id-6 div.sk-parallel-item:only-child::after {width: 0;}#sk-container-id-6 div.sk-dashed-wrapped {border: 1px dashed gray;margin: 0 0.4em 0.5em 0.4em;box-sizing: border-box;padding-bottom: 0.4em;background-color: white;}#sk-container-id-6 div.sk-label label {font-family: monospace;font-weight: bold;display: inline-block;line-height: 1.2em;}#sk-container-id-6 div.sk-label-container {text-align: center;}#sk-container-id-6 div.sk-container {/* jupyter's `normalize.less` sets `[hidden] { display: none; }` but bootstrap.min.css set `[hidden] { display: none !important; }` so we also need the `!important` here to be able to override the default hidden behavior on the sphinx rendered scikit-learn.org. See: https://github.com/scikit-learn/scikit-learn/issues/21755 */display: inline-block !important;position: relative;}#sk-container-id-6 div.sk-text-repr-fallback {display: none;}</style><div id=\"sk-container-id-6\" class=\"sk-top-container\"><div class=\"sk-text-repr-fallback\"><pre>RandomForestClassifier(n_estimators=500, random_state=42)</pre><b>In a Jupyter environment, please rerun this cell to show the HTML representation or trust the notebook. <br />On GitHub, the HTML representation is unable to render, please try loading this page with nbviewer.org.</b></div><div class=\"sk-container\" hidden><div class=\"sk-item\"><div class=\"sk-estimator sk-toggleable\"><input class=\"sk-toggleable__control sk-hidden--visually\" id=\"sk-estimator-id-6\" type=\"checkbox\" checked><label for=\"sk-estimator-id-6\" class=\"sk-toggleable__label sk-toggleable__label-arrow\">RandomForestClassifier</label><div class=\"sk-toggleable__content\"><pre>RandomForestClassifier(n_estimators=500, random_state=42)</pre></div></div></div></div></div>"
      ],
      "text/plain": [
       "RandomForestClassifier(n_estimators=500, random_state=42)"
      ]
     },
     "execution_count": 119,
     "metadata": {},
     "output_type": "execute_result"
    }
   ],
   "source": [
    "# rf.fit(feature_matrix, y_train)\n",
    "rf.fit(feature_matrix, train_data[\"Transported\"])"
   ]
  },
  {
   "cell_type": "code",
   "execution_count": 120,
   "id": "0b38840e-e4d4-4ceb-ba1f-3325e373c115",
   "metadata": {},
   "outputs": [],
   "source": [
    "rf_y_pred = rf.predict(val_feature_matrix)"
   ]
  },
  {
   "cell_type": "code",
   "execution_count": 121,
   "id": "5bd2bb27-ae08-4c7d-a818-525314de9032",
   "metadata": {},
   "outputs": [
    {
     "name": "stdout",
     "output_type": "stream",
     "text": [
      "              precision    recall  f1-score   support\n",
      "\n",
      "       False       0.97      0.92      0.94      1289\n",
      "        True       0.93      0.97      0.95      1319\n",
      "\n",
      "    accuracy                           0.94      2608\n",
      "   macro avg       0.95      0.94      0.94      2608\n",
      "weighted avg       0.95      0.94      0.94      2608\n",
      "\n"
     ]
    }
   ],
   "source": [
    "print(classification_report(y_val, rf_y_pred))"
   ]
  },
  {
   "cell_type": "code",
   "execution_count": 122,
   "id": "b1bdc30e-9110-4c4a-ac8f-b09a48220fca",
   "metadata": {},
   "outputs": [
    {
     "name": "stdout",
     "output_type": "stream",
     "text": [
      "0.9444018404907976\n"
     ]
    }
   ],
   "source": [
    "print(accuracy_score(y_val, rf_y_pred))"
   ]
  },
  {
   "cell_type": "code",
   "execution_count": 44,
   "id": "8b67279e-2107-4923-9336-4be4a24df748",
   "metadata": {},
   "outputs": [
    {
     "data": {
      "text/plain": [
       "<AxesSubplot:>"
      ]
     },
     "execution_count": 44,
     "metadata": {},
     "output_type": "execute_result"
    },
    {
     "data": {
      "image/png": "[encoded data removed]",
      "text/plain": [
       "<Figure size 432x288 with 1 Axes>"
      ]
     },
     "metadata": {
      "needs_background": "light"
     },
     "output_type": "display_data"
    }
   ],
   "source": [
    "pd.Series(rf.feature_importances_, index=val_feature_matrix.columns).plot(kind=\"bar\")"
   ]
  },
  {
   "cell_type": "code",
   "execution_count": 175,
   "id": "9b3c8791-7bb3-4e66-92f7-8d49c3c4127e",
   "metadata": {},
   "outputs": [],
   "source": [
    "test_data = pd.read_csv(\"test.csv\")"
   ]
  },
  {
   "cell_type": "code",
   "execution_count": 176,
   "id": "6e3a5474-d125-486f-ad83-14073ffdc0ca",
   "metadata": {},
   "outputs": [],
   "source": [
    "pid_df = test_data[[\"PassengerId\"]]"
   ]
  },
  {
   "cell_type": "code",
   "execution_count": 177,
   "id": "b9053079-2565-4808-a687-63d3dc042e75",
   "metadata": {},
   "outputs": [],
   "source": [
    "test_data = preprocess(test_data)"
   ]
  },
  {
   "cell_type": "code",
   "execution_count": 178,
   "id": "bed78737-66db-4248-88bf-919b65e9bc7b",
   "metadata": {},
   "outputs": [],
   "source": [
    "test_data[\"CabinLocation\"] = pd.Categorical(test_data.CabinLocation, categories=fact_unique)"
   ]
  },
  {
   "cell_type": "code",
   "execution_count": 179,
   "id": "4a4107bc-7566-4931-b22f-9c1333f2d7a2",
   "metadata": {},
   "outputs": [],
   "source": [
    "test_feature_data = scaler.transform(test_data[[\"RoomService\", \"FoodCourt\", \"ShoppingMall\", \"Spa\", \"VRDeck\", \"Age\"]])\n",
    "test_feature_matrix = pd.DataFrame(test_feature_data, columns=scaler.get_feature_names_out())\n",
    "# test_feature_matrix = pd.concat([test_feature_matrix, test_data[[\"CryoSleep\", \"VIP\", \"HomePlanet\", \"Destination\", \"Deck\", \"Side\"]].reset_index().drop(columns=[\"index\"], axis=0)], axis=1)\n",
    "test_feature_matrix = pd.concat([test_feature_matrix, test_data[[\"CryoSleep\", \"VIP\", \"HomePlanet\", \"Destination\", \"Deck\", \"Side\", \"CabinLocation\"]].reset_index().drop(columns=[\"index\"], axis=0)], axis=1)\n",
    "# deck_side_features_test = ohc.transform(test_feature_matrix[[\"HomePlanet\", \"Destination\", \"Deck\", \"Side\"]])\n",
    "deck_side_features_test = ohc.transform(test_feature_matrix[[\"HomePlanet\", \"Destination\", \"Deck\", \"Side\", \"CabinLocation\"]])\n",
    "test_feature_matrix = pd.concat([test_feature_matrix, pd.DataFrame(deck_side_features_test, columns=ohc.get_feature_names_out())], axis=1)\n",
    "test_feature_matrix.drop(columns=[\"HomePlanet\", \"Destination\", \"Deck\", \"Side\", \"CabinLocation\"], axis=1, inplace=True)\n"
   ]
  },
  {
   "cell_type": "code",
   "execution_count": 134,
   "id": "d225b62d-a944-450e-ab03-44b1ad1c0535",
   "metadata": {},
   "outputs": [],
   "source": [
    "rf_test_pred = rf.predict(test_feature_matrix)"
   ]
  },
  {
   "cell_type": "code",
   "execution_count": 135,
   "id": "0545e9bd-7a68-4051-ac74-39e20a60c8da",
   "metadata": {},
   "outputs": [],
   "source": [
    "output = pd.concat([pid_df, pd.DataFrame(rf_test_pred, columns=[\"Transported\"])], axis=1)"
   ]
  },
  {
   "cell_type": "code",
   "execution_count": 136,
   "id": "0b777903-88e8-4873-b719-bb7bd3499aef",
   "metadata": {},
   "outputs": [],
   "source": [
    "output.to_csv(\"output_full_rf.csv\", index=False)"
   ]
  },
  {
   "cell_type": "code",
   "execution_count": 180,
   "id": "7619bf9a-6f50-48b6-8ad6-9d8b03b16c31",
   "metadata": {},
   "outputs": [],
   "source": [
    "svm_test_pred = svm_model.predict(test_feature_matrix)"
   ]
  },
  {
   "cell_type": "code",
   "execution_count": 181,
   "id": "27487f8d-c2aa-4d3a-a056-7dab85582361",
   "metadata": {},
   "outputs": [],
   "source": [
    "output_svm = pd.concat([pid_df, pd.DataFrame(svm_test_pred, columns=[\"Transported\"])], axis=1)"
   ]
  },
  {
   "cell_type": "code",
   "execution_count": 182,
   "id": "325b32f7-1963-42e6-8f42-cfc84a4f0fb0",
   "metadata": {},
   "outputs": [],
   "source": [
    "output_svm.to_csv(\"output_full_svm.csv\", index=False)"
   ]
  },
  {
   "cell_type": "code",
   "execution_count": null,
   "id": "a61103b3-87b2-4ae2-89eb-40a941dab2db",
   "metadata": {},
   "outputs": [],
   "source": []
  }
 ],
 "metadata": {
  "kernelspec": {
   "display_name": "Python [conda env:saxena] *",
   "language": "python",
   "name": "conda-env-saxena-py"
  },
  "language_info": {
   "codemirror_mode": {
    "name": "ipython",
    "version": 3
   },
   "file_extension": ".py",
   "mimetype": "text/x-python",
   "name": "python",
   "nbconvert_exporter": "python",
   "pygments_lexer": "ipython3",
   "version": "3.10.8"
  }
 },
 "nbformat": 4,
 "nbformat_minor": 5
}
